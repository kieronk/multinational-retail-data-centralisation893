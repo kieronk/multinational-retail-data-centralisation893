{
 "cells": [
  {
   "cell_type": "code",
   "execution_count": 1,
   "metadata": {},
   "outputs": [],
   "source": [
    "import pandas as pd\n",
    "from database_utils import DatabaseConnector\n",
    "import re \n",
    "from sqlalchemy import create_engine, text, insert \n",
    "from sqlalchemy.inspection import inspect\n",
    "from sqlalchemy.exc import SQLAlchemyError"
   ]
  },
  {
   "cell_type": "code",
   "execution_count": null,
   "metadata": {},
   "outputs": [],
   "source": [
    "# Start here from 7/8/24 trying to get total_sales, no idea how to do it \n",
    "# but the actual data pipelines and cleaning seem to work "
   ]
  },
  {
   "cell_type": "code",
   "execution_count": null,
   "metadata": {},
   "outputs": [],
   "source": [
    "# Create instance of a DatabaseConnector  \n",
    "instance = DatabaseConnector() \n",
    "# Create an engine by using the init_my_db_engine() method of DatabaseConnector \n",
    "engine = instance.init_my_db_engine()\n",
    "\n",
    "#try to do engine.connect() \n",
    "with engine.connect() as connection:\n",
    "\n",
    "    # Ensure the transaction is committed \n",
    "    with connection.begin():      \n",
    "        def remove_pound_symbol(connection, table_name, column_name):\n",
    "            no_stores_countries = f\"\"\"dfd\"\"\"\n",
    "\n",
    "# Replace the following with your actual database URL\n",
    "database_url = 'your_database_url'\n",
    "\n",
    "# Create an engine instance\n",
    "engine = create_engine(database_url)\n",
    "\n",
    "# Define the SQL query\n",
    "query = \"\"\"\n",
    "SELECT country_code, COUNT(store_code) AS total_stores\n",
    "FROM stores\n",
    "GROUP BY country_code;\n",
    "\"\"\"\n",
    "\n",
    "# Execute the query and load the result into a DataFrame\n",
    "df = pd.read_sql(query, engine)\n",
    "\n",
    "# Display the result\n",
    "print(df)\n"
   ]
  },
  {
   "cell_type": "code",
   "execution_count": null,
   "metadata": {},
   "outputs": [],
   "source": [
    "SELECT locality FROM dim_store_details LIMIT 10\n",
    "\n",
    "# getting total stores per country \n",
    "SELECT country_code, COUNT(store_code) AS total_stores\n",
    "FROM dim_store_details\n",
    "GROUP BY country_code;\n",
    "\n",
    "# Which locations currently have the most stores \n",
    "SELECT locality, COUNT(store_code) AS total_stores\n",
    "FROM dim_store_details\n",
    "GROUP BY locality\n",
    "ORDER BY total_stores DESC;\n",
    "\n",
    "# Which months produced the largest amount of sales \n",
    "SELECT locality, COUNT(store_code) AS total_stores\n",
    "FROM dim_store_details\n",
    "GROUP BY locality\n",
    "ORDER BY total_stores DESC;\n",
    "\n",
    "# Total sales per month NOT WORKING \n",
    "SELECT dt.month, SUM(ot.product_quantity) AS total_sales\n",
    "FROM orders_table ot\n",
    "JOIN dim_date_times dt ON ot.date_uuid = dt.date_uuid\n",
    "GROUP BY dt.month\n",
    "ORDER BY total_sales;\n",
    "\n",
    "\n",
    "# Total sales per month NOT WORKING \n",
    "SELECT cd.date_payment_confirmed, SUM(ot.product_quantity) AS total_sales\n",
    "FROM orders_table ot\n",
    "JOIN dim_card_details cd ON ot.card_number = cd.card_number\n",
    "GROUP BY cd.date_payment_confirmed\n",
    "ORDER BY total_sales;\n",
    "\n",
    "\n",
    "\n",
    "SELECT * FROM orders_table LIMIT 10 \n",
    "SELECT * FROM dim_users LIMIT 10 \n",
    "SELECT * FROM dim_store_details LIMIT 10 \n",
    "SELECT * FROM dim_products LIMIT 10 \n",
    "SELECT * FROM dim_date_times LIMIT 10 \n",
    "SELECT * FROM dim_card_details LIMIT 10 \n",
    "\n",
    "\t\n",
    "orders_table JOIN dim_date_times ON date_uuid\n",
    "\n"
   ]
  },
  {
   "cell_type": "code",
   "execution_count": null,
   "metadata": {},
   "outputs": [],
   "source": []
  }
 ],
 "metadata": {
  "kernelspec": {
   "display_name": "multinational_env",
   "language": "python",
   "name": "python3"
  },
  "language_info": {
   "codemirror_mode": {
    "name": "ipython",
    "version": 3
   },
   "file_extension": ".py",
   "mimetype": "text/x-python",
   "name": "python",
   "nbconvert_exporter": "python",
   "pygments_lexer": "ipython3",
   "version": "3.12.3"
  }
 },
 "nbformat": 4,
 "nbformat_minor": 2
}
