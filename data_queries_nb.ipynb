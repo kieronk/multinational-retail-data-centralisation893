{
 "cells": [
  {
   "cell_type": "code",
   "execution_count": 1,
   "metadata": {},
   "outputs": [],
   "source": [
    "import pandas as pd\n",
    "from database_utils import DatabaseConnector\n",
    "import re \n",
    "from sqlalchemy import create_engine, text, insert \n",
    "from sqlalchemy.inspection import inspect\n",
    "from sqlalchemy.exc import SQLAlchemyError"
   ]
  },
  {
   "cell_type": "code",
   "execution_count": null,
   "metadata": {},
   "outputs": [],
   "source": [
    "# Create instance of a DatabaseConnector  \n",
    "instance = DatabaseConnector() \n",
    "# Create an engine by using the init_my_db_engine() method of DatabaseConnector \n",
    "engine = instance.init_my_db_engine()\n",
    "\n",
    "#try to do engine.connect() \n",
    "with engine.connect() as connection:\n",
    "\n",
    "    # Ensure the transaction is committed \n",
    "    with connection.begin():      \n",
    "        def remove_pound_symbol(connection, table_name, column_name):\n",
    "            no_stores_countries = f\"\"\"dfd\"\"\"\n",
    "\n",
    "# Replace the following with your actual database URL\n",
    "database_url = 'your_database_url'\n",
    "\n",
    "# Create an engine instance\n",
    "engine = create_engine(database_url)\n",
    "\n",
    "# Define the SQL query\n",
    "query = \"\"\"\n",
    "SELECT country_code, COUNT(store_code) AS total_stores\n",
    "FROM stores\n",
    "GROUP BY country_code;\n",
    "\"\"\"\n",
    "\n",
    "# Execute the query and load the result into a DataFrame\n",
    "df = pd.read_sql(query, engine)\n",
    "\n",
    "# Display the result\n",
    "print(df)\n"
   ]
  },
  {
   "cell_type": "code",
   "execution_count": null,
   "metadata": {},
   "outputs": [],
   "source": [
    "# getting total stores per country \n",
    "SELECT country_code, COUNT(store_code) AS total_stores\n",
    "FROM dim_store_details\n",
    "GROUP BY country_code;\n"
   ]
  },
  {
   "cell_type": "code",
   "execution_count": null,
   "metadata": {},
   "outputs": [],
   "source": []
  }
 ],
 "metadata": {
  "kernelspec": {
   "display_name": "multinational_env",
   "language": "python",
   "name": "python3"
  },
  "language_info": {
   "codemirror_mode": {
    "name": "ipython",
    "version": 3
   },
   "file_extension": ".py",
   "mimetype": "text/x-python",
   "name": "python",
   "nbconvert_exporter": "python",
   "pygments_lexer": "ipython3",
   "version": "3.12.3"
  }
 },
 "nbformat": 4,
 "nbformat_minor": 2
}
