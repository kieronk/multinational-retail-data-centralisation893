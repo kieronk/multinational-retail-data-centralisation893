{
 "cells": [
  {
   "cell_type": "code",
   "execution_count": 2,
   "metadata": {},
   "outputs": [],
   "source": [
    "import pandas as pd\n",
    "import logging \n",
    "import numpy as np\n",
    "import re \n",
    "from IPython.display import display\n",
    "from sqlalchemy import MetaData, Table\n",
    "from database_utils import DatabaseConnector\n",
    "from data_extraction import DataExtractor\n",
    "from unidecode import unidecode\n",
    "from dateutil import parser"
   ]
  },
  {
   "cell_type": "code",
   "execution_count": 3,
   "metadata": {},
   "outputs": [],
   "source": [
    "#this is ok and is combined with the data_cleaning file "
   ]
  },
  {
   "cell_type": "code",
   "execution_count": 4,
   "metadata": {},
   "outputs": [
    {
     "name": "stdout",
     "output_type": "stream",
     "text": [
      "started convert_weights_to_kg\n",
      "extract_from_s3 is working\n"
     ]
    }
   ],
   "source": [
    " #LOGGING start of method \n",
    "print('started convert_weights_to_kg')\n",
    "\n",
    "#creating instance of dataextractor \n",
    "instance = DataExtractor()\n",
    "    \n",
    "#retrieving the data from the stores API\n",
    "df = instance.extract_from_s3('s3://data-handling-public/products.csv') \n",
    "                \n",
    "        \n"
   ]
  },
  {
   "cell_type": "code",
   "execution_count": 5,
   "metadata": {},
   "outputs": [],
   "source": [
    "#making a back up of the dataframe \n",
    "df_backup = df.copy()"
   ]
  },
  {
   "cell_type": "code",
   "execution_count": 6,
   "metadata": {},
   "outputs": [],
   "source": [
    "# run this to reset the df \n",
    "df = df_backup.copy()"
   ]
  },
  {
   "cell_type": "code",
   "execution_count": 7,
   "metadata": {},
   "outputs": [
    {
     "name": "stdout",
     "output_type": "stream",
     "text": [
      "<class 'pandas.core.frame.DataFrame'>\n",
      "RangeIndex: 1853 entries, 0 to 1852\n",
      "Data columns (total 10 columns):\n",
      " #   Column         Non-Null Count  Dtype \n",
      "---  ------         --------------  ----- \n",
      " 0   Unnamed: 0     1853 non-null   int64 \n",
      " 1   product_name   1849 non-null   object\n",
      " 2   product_price  1849 non-null   object\n",
      " 3   weight         1849 non-null   object\n",
      " 4   category       1849 non-null   object\n",
      " 5   EAN            1849 non-null   object\n",
      " 6   date_added     1849 non-null   object\n",
      " 7   uuid           1849 non-null   object\n",
      " 8   removed        1849 non-null   object\n",
      " 9   product_code   1849 non-null   object\n",
      "dtypes: int64(1), object(9)\n",
      "memory usage: 144.9+ KB\n"
     ]
    },
    {
     "data": {
      "text/plain": [
       "None"
      ]
     },
     "metadata": {},
     "output_type": "display_data"
    }
   ],
   "source": [
    "display(df.info())"
   ]
  },
  {
   "cell_type": "code",
   "execution_count": 8,
   "metadata": {},
   "outputs": [
    {
     "data": {
      "text/plain": [
       "array(['Still_avaliable', 'Removed', nan, 'T3QRRH7SRP', 'BPSADIOQOK',\n",
       "       'H5N71TV8AY'], dtype=object)"
      ]
     },
     "metadata": {},
     "output_type": "display_data"
    }
   ],
   "source": [
    "display(df['removed'].unique())"
   ]
  },
  {
   "cell_type": "code",
   "execution_count": 9,
   "metadata": {},
   "outputs": [
    {
     "data": {
      "text/html": [
       "<div>\n",
       "<style scoped>\n",
       "    .dataframe tbody tr th:only-of-type {\n",
       "        vertical-align: middle;\n",
       "    }\n",
       "\n",
       "    .dataframe tbody tr th {\n",
       "        vertical-align: top;\n",
       "    }\n",
       "\n",
       "    .dataframe thead th {\n",
       "        text-align: right;\n",
       "    }\n",
       "</style>\n",
       "<table border=\"1\" class=\"dataframe\">\n",
       "  <thead>\n",
       "    <tr style=\"text-align: right;\">\n",
       "      <th></th>\n",
       "      <th>Unnamed: 0</th>\n",
       "      <th>product_name</th>\n",
       "      <th>product_price</th>\n",
       "      <th>weight</th>\n",
       "      <th>category</th>\n",
       "      <th>EAN</th>\n",
       "      <th>date_added</th>\n",
       "      <th>uuid</th>\n",
       "      <th>removed</th>\n",
       "      <th>product_code</th>\n",
       "    </tr>\n",
       "  </thead>\n",
       "  <tbody>\n",
       "  </tbody>\n",
       "</table>\n",
       "</div>"
      ],
      "text/plain": [
       "Empty DataFrame\n",
       "Columns: [Unnamed: 0, product_name, product_price, weight, category, EAN, date_added, uuid, removed, product_code]\n",
       "Index: []"
      ]
     },
     "metadata": {},
     "output_type": "display_data"
    }
   ],
   "source": [
    "nan_rows = df.loc[df['removed'] == 'nan']\n",
    "\n",
    "display(nan_rows) \n",
    "#na_rows = df.loc[df['lat'] == 'N/A']"
   ]
  },
  {
   "cell_type": "code",
   "execution_count": 10,
   "metadata": {},
   "outputs": [
    {
     "data": {
      "text/plain": [
       "'Number of rows before cleaning: 1853'"
      ]
     },
     "metadata": {},
     "output_type": "display_data"
    },
    {
     "data": {
      "text/plain": [
       "'Number of rows after conversion: 1853'"
      ]
     },
     "metadata": {},
     "output_type": "display_data"
    },
    {
     "data": {
      "text/plain": [
       "'Number of rows after replace still available: 1853'"
      ]
     },
     "metadata": {},
     "output_type": "display_data"
    },
    {
     "data": {
      "text/plain": [
       "array(['Still_available', 'Removed', nan, 'T3QRRH7SRP', 'BPSADIOQOK',\n",
       "       'H5N71TV8AY'], dtype=object)"
      ]
     },
     "metadata": {},
     "output_type": "display_data"
    },
    {
     "name": "stdout",
     "output_type": "stream",
     "text": [
      "Items to be removed:\n",
      "      Unnamed: 0 product_name product_price      weight    category  \\\n",
      "266          266          NaN           NaN         NaN         NaN   \n",
      "751          751   VLPCU81M30    XCD69KUI0K  9GO9NZ5JTL  S1YB74MLMJ   \n",
      "788          788          NaN           NaN         NaN         NaN   \n",
      "794          794          NaN           NaN         NaN         NaN   \n",
      "1133        1133   9SX4G65YUX    N9D2BZQX63  Z8ZTDGUZVU  C3NCA2CL35   \n",
      "1400        1400   LB3D71C025    ODPMASE7V7  MX180RYSHX  WVPMHZP59U   \n",
      "1660        1660          NaN           NaN         NaN         NaN   \n",
      "\n",
      "             EAN  date_added        uuid     removed product_code  \\\n",
      "266          NaN         NaN         NaN         NaN          NaN   \n",
      "751   OO7KH8P79I  CCAVRB79VV  7QB0Z9EW1G  T3QRRH7SRP   SDAV678FVD   \n",
      "788          NaN         NaN         NaN         NaN          NaN   \n",
      "794          NaN         NaN         NaN         NaN          NaN   \n",
      "1133  E8EOGWOY8S  09KREHTMWL  CP8XYQVGGU  BPSADIOQOK  BSDTR67VD90   \n",
      "1400  BHPF2JTNKQ  PEPWA0NCVH  VIBLHHVPMN  H5N71TV8AY   OPSD21HN67   \n",
      "1660         NaN         NaN         NaN         NaN          NaN   \n",
      "\n",
      "      weight_in_kg  \n",
      "266            NaN  \n",
      "751            0.0  \n",
      "788            NaN  \n",
      "794            NaN  \n",
      "1133           NaN  \n",
      "1400           NaN  \n",
      "1660           NaN  \n"
     ]
    },
    {
     "data": {
      "text/plain": [
       "'Number of rows after cleaning of removed column: 1846'"
      ]
     },
     "metadata": {},
     "output_type": "display_data"
    },
    {
     "data": {
      "text/plain": [
       "'Rows with NaN values:'"
      ]
     },
     "metadata": {},
     "output_type": "display_data"
    },
    {
     "data": {
      "text/html": [
       "<div>\n",
       "<style scoped>\n",
       "    .dataframe tbody tr th:only-of-type {\n",
       "        vertical-align: middle;\n",
       "    }\n",
       "\n",
       "    .dataframe tbody tr th {\n",
       "        vertical-align: top;\n",
       "    }\n",
       "\n",
       "    .dataframe thead th {\n",
       "        text-align: right;\n",
       "    }\n",
       "</style>\n",
       "<table border=\"1\" class=\"dataframe\">\n",
       "  <thead>\n",
       "    <tr style=\"text-align: right;\">\n",
       "      <th></th>\n",
       "      <th>Unnamed: 0</th>\n",
       "      <th>product_name</th>\n",
       "      <th>product_price</th>\n",
       "      <th>weight</th>\n",
       "      <th>category</th>\n",
       "      <th>EAN</th>\n",
       "      <th>date_added</th>\n",
       "      <th>uuid</th>\n",
       "      <th>removed</th>\n",
       "      <th>product_code</th>\n",
       "      <th>weight_in_kg</th>\n",
       "    </tr>\n",
       "  </thead>\n",
       "  <tbody>\n",
       "  </tbody>\n",
       "</table>\n",
       "</div>"
      ],
      "text/plain": [
       "Empty DataFrame\n",
       "Columns: [Unnamed: 0, product_name, product_price, weight, category, EAN, date_added, uuid, removed, product_code, weight_in_kg]\n",
       "Index: []"
      ]
     },
     "metadata": {},
     "output_type": "display_data"
    },
    {
     "data": {
      "text/plain": [
       "'Number of rows after dropna: 1846'"
      ]
     },
     "metadata": {},
     "output_type": "display_data"
    },
    {
     "data": {
      "text/plain": [
       "'Rows that will be dropped by category filter:'"
      ]
     },
     "metadata": {},
     "output_type": "display_data"
    },
    {
     "data": {
      "text/html": [
       "<div>\n",
       "<style scoped>\n",
       "    .dataframe tbody tr th:only-of-type {\n",
       "        vertical-align: middle;\n",
       "    }\n",
       "\n",
       "    .dataframe tbody tr th {\n",
       "        vertical-align: top;\n",
       "    }\n",
       "\n",
       "    .dataframe thead th {\n",
       "        text-align: right;\n",
       "    }\n",
       "</style>\n",
       "<table border=\"1\" class=\"dataframe\">\n",
       "  <thead>\n",
       "    <tr style=\"text-align: right;\">\n",
       "      <th></th>\n",
       "      <th>Unnamed: 0</th>\n",
       "      <th>product_name</th>\n",
       "      <th>product_price</th>\n",
       "      <th>weight</th>\n",
       "      <th>category</th>\n",
       "      <th>EAN</th>\n",
       "      <th>date_added</th>\n",
       "      <th>uuid</th>\n",
       "      <th>removed</th>\n",
       "      <th>product_code</th>\n",
       "      <th>weight_in_kg</th>\n",
       "    </tr>\n",
       "  </thead>\n",
       "  <tbody>\n",
       "  </tbody>\n",
       "</table>\n",
       "</div>"
      ],
      "text/plain": [
       "Empty DataFrame\n",
       "Columns: [Unnamed: 0, product_name, product_price, weight, category, EAN, date_added, uuid, removed, product_code, weight_in_kg]\n",
       "Index: []"
      ]
     },
     "metadata": {},
     "output_type": "display_data"
    },
    {
     "data": {
      "text/plain": [
       "'Number of rows after category filter: 1846'"
      ]
     },
     "metadata": {},
     "output_type": "display_data"
    },
    {
     "name": "stdout",
     "output_type": "stream",
     "text": [
      "Number of rows before opening_date cleaning: 1846\n"
     ]
    },
    {
     "data": {
      "text/plain": [
       "'Rows that would be converted to NULL:'"
      ]
     },
     "metadata": {},
     "output_type": "display_data"
    },
    {
     "data": {
      "text/html": [
       "<div>\n",
       "<style scoped>\n",
       "    .dataframe tbody tr th:only-of-type {\n",
       "        vertical-align: middle;\n",
       "    }\n",
       "\n",
       "    .dataframe tbody tr th {\n",
       "        vertical-align: top;\n",
       "    }\n",
       "\n",
       "    .dataframe thead th {\n",
       "        text-align: right;\n",
       "    }\n",
       "</style>\n",
       "<table border=\"1\" class=\"dataframe\">\n",
       "  <thead>\n",
       "    <tr style=\"text-align: right;\">\n",
       "      <th></th>\n",
       "      <th>Unnamed: 0</th>\n",
       "      <th>product_name</th>\n",
       "      <th>product_price</th>\n",
       "      <th>weight</th>\n",
       "      <th>category</th>\n",
       "      <th>EAN</th>\n",
       "      <th>date_added</th>\n",
       "      <th>uuid</th>\n",
       "      <th>removed</th>\n",
       "      <th>product_code</th>\n",
       "      <th>weight_in_kg</th>\n",
       "    </tr>\n",
       "  </thead>\n",
       "  <tbody>\n",
       "  </tbody>\n",
       "</table>\n",
       "</div>"
      ],
      "text/plain": [
       "Empty DataFrame\n",
       "Columns: [Unnamed: 0, product_name, product_price, weight, category, EAN, date_added, uuid, removed, product_code, weight_in_kg]\n",
       "Index: []"
      ]
     },
     "metadata": {},
     "output_type": "display_data"
    },
    {
     "data": {
      "text/plain": [
       "'\\nList of invalid dates:'"
      ]
     },
     "metadata": {},
     "output_type": "display_data"
    },
    {
     "data": {
      "text/plain": [
       "[]"
      ]
     },
     "metadata": {},
     "output_type": "display_data"
    },
    {
     "name": "stdout",
     "output_type": "stream",
     "text": [
      "Number of rows after date_added cleaning: 1846\n",
      "Number of rows product data after cleaning: 1846\n"
     ]
    }
   ],
   "source": [
    "df = df_backup.copy()\n",
    "\n",
    "\n",
    "num_rows = df.shape[0]\n",
    "display(f\"Number of rows before cleaning: {num_rows}\")\n",
    "# Define the regex pattern to match numbers and letters\n",
    "weight_pattern = re.compile(r'([0-9.]+)([a-zA-Z]+)')\n",
    "\n",
    "# Define the regex pattern to match the weight multiplier format\n",
    "weight_multiplier = re.compile(r'^(\\d+)\\s*x\\s*(\\d+)([a-zA-Z]+)$')\n",
    "\n",
    "# Conversion factors to kg\n",
    "conversion_factors = {\n",
    "    'kg': 1,\n",
    "    'g': 0.001,\n",
    "    'oz': 0.0283495231,\n",
    "    'ml': 0.001  # Assuming ml is equivalent to grams for water-based products\n",
    "}\n",
    "\n",
    "def convert_to_kg(weight):\n",
    "    if pd.isna(weight):\n",
    "        return None  # Handle NaN values\n",
    "    \n",
    "    match1 = weight_pattern.match(str(weight))\n",
    "    match2 = weight_multiplier.match(str(weight))\n",
    "    \n",
    "    if match1:\n",
    "        number = float(match1.group(1))  # Extract the numeric part\n",
    "        unit = match1.group(2).lower()  # Extract the unit part\n",
    "        return number * conversion_factors.get(unit, 0)  # Convert to kg\n",
    "    \n",
    "    elif match2:\n",
    "        multiplier = int(match2.group(1))  # Get the multiplier\n",
    "        amount = float(match2.group(2))  # Extract the amount\n",
    "        unit = match2.group(3).lower()  # Extract the unit\n",
    "        return (multiplier * amount) * conversion_factors.get(unit, 0)  # Convert to kg\n",
    "    \n",
    "    return None  # Handle cases where regex does not match\n",
    "\n",
    "# Apply the conversion to the 'weight' column\n",
    "df['weight_in_kg'] = df['weight'].apply(convert_to_kg)\n",
    "\n",
    "num_rows = df.shape[0]\n",
    "display(f\"Number of rows after conversion: {num_rows}\")\n",
    "\n",
    "# Correct the misspelled value\n",
    "#df['removed'] = df['removed'].replace('Still_avaliable', 'Still_available')\n",
    "df['removed'] = df['removed'].str.replace('Still_avaliable', 'Still_available')\n",
    "\n",
    "num_rows = df.shape[0]\n",
    "display(f\"Number of rows after replace still available: {num_rows}\")\n",
    "\n",
    "display(df['removed'].unique())\n",
    "\n",
    "# Filter the DataFrame to keep only 'Still_available' or 'Removed'\n",
    "# Correct the misspelled value using str.replace\n",
    "\n",
    "# Define valid values\n",
    "valid_values = ['Still_available', 'Removed']\n",
    "\n",
    "# Identify rows that will be removed\n",
    "rows_to_remove = df[~df['removed'].isin(valid_values)]\n",
    "\n",
    "# Display the list of items that will be removed\n",
    "print(\"Items to be removed:\")\n",
    "print(rows_to_remove)\n",
    "\n",
    "# Filter the DataFrame to keep only 'Still_available' or 'Removed'\n",
    "df = df[df['removed'].isin(valid_values)]\n",
    "\n",
    "\n",
    "num_rows = df.shape[0]\n",
    "display(f\"Number of rows after cleaning of removed column: {num_rows}\")\n",
    "\n",
    "\n",
    "# Capture rows with NaN values before dropping them\n",
    "rows_with_na = df[df.isna().any(axis=1)]\n",
    "display(\"Rows with NaN values:\")\n",
    "display(rows_with_na)\n",
    "\n",
    "# Drop rows with NaN values\n",
    "df = df.dropna(axis=0)\n",
    "\n",
    "num_rows = df.shape[0]\n",
    "display(f\"Number of rows after dropna: {num_rows}\")\n",
    "\n",
    "# Define the regex pattern for the 'category' column\n",
    "category_pattern = re.compile(r'^[a-zA-Z\\-]+$')\n",
    "\n",
    "# Capture rows that will be dropped by the category filter\n",
    "rows_dropped_by_category = df[~df['category'].apply(lambda x: bool(category_pattern.match(str(x))))]\n",
    "\n",
    "display(\"Rows that will be dropped by category filter:\")\n",
    "display(rows_dropped_by_category)\n",
    "\n",
    "# Filter rows based on the category pattern\n",
    "df = df[df['category'].apply(lambda x: bool(category_pattern.match(str(x))))]\n",
    "\n",
    "num_rows = df.shape[0]\n",
    "display(f\"Number of rows after category filter: {num_rows}\")\n",
    "\n",
    "\n",
    "# STEP 5, cleaning date_added \n",
    "\n",
    "num_rows = df.shape[0]\n",
    "print(f\"Number of rows before opening_date cleaning: {num_rows}\")\n",
    "\n",
    "# Initialize a list to store invalid dates\n",
    "invalid_dates_list = []\n",
    "\n",
    "# Function to parse dates and standardize format\n",
    "def parse_date(date_str):\n",
    "    try:\n",
    "        # Attempt to parse the date string to a datetime object\n",
    "        dt = parser.parse(date_str)\n",
    "        # Convert to the desired format (YYYY-MM-DD)\n",
    "        return dt.strftime('%Y-%m-%d')\n",
    "    except (parser.ParserError, ValueError):\n",
    "        # Append invalid date to the list\n",
    "        invalid_dates_list.append(date_str)\n",
    "        return np.nan  # Return NaN for invalid dates\n",
    "\n",
    "# Apply the function to the 'date_of_birth' column\n",
    "df['date_added'] = df['date_added'].apply(parse_date)\n",
    "\n",
    "# Identify rows that would be null after conversion\n",
    "invalid_rows = df[df['date_added'].isna()]\n",
    "\n",
    "display(\"Rows that would be converted to NULL:\")\n",
    "display(invalid_rows)\n",
    "\n",
    "# Drop rows with NaN (invalid dates)\n",
    "df_cleaned = df.dropna(subset=['date_added'])\n",
    "\n",
    "display(\"\\nList of invalid dates:\")\n",
    "display(invalid_dates_list)\n",
    "\n",
    "num_rows = df.shape[0]\n",
    "print(f\"Number of rows after date_added cleaning: {num_rows}\")\n",
    "\n",
    "num_rows = df.shape[0]\n",
    "print(f\"Number of rows product data after cleaning: {num_rows}\")\n"
   ]
  }
 ],
 "metadata": {
  "kernelspec": {
   "display_name": "multinational_env",
   "language": "python",
   "name": "python3"
  },
  "language_info": {
   "codemirror_mode": {
    "name": "ipython",
    "version": 3
   },
   "file_extension": ".py",
   "mimetype": "text/x-python",
   "name": "python",
   "nbconvert_exporter": "python",
   "pygments_lexer": "ipython3",
   "version": "3.12.3"
  }
 },
 "nbformat": 4,
 "nbformat_minor": 2
}
