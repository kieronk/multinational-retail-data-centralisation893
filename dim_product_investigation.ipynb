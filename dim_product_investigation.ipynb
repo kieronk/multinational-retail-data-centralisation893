{
 "cells": [
  {
   "cell_type": "code",
   "execution_count": 2,
   "metadata": {},
   "outputs": [],
   "source": [
    "import pandas as pd\n",
    "import logging \n",
    "import numpy as np\n",
    "import re \n",
    "from IPython.display import display\n",
    "from sqlalchemy import MetaData, Table\n",
    "from database_utils import DatabaseConnector\n",
    "from data_extraction import DataExtractor"
   ]
  },
  {
   "cell_type": "code",
   "execution_count": null,
   "metadata": {},
   "outputs": [],
   "source": [
    "#still working on weight "
   ]
  },
  {
   "cell_type": "code",
   "execution_count": 7,
   "metadata": {},
   "outputs": [
    {
     "name": "stdout",
     "output_type": "stream",
     "text": [
      "started convert_weights_to_kg\n",
      "extract_from_s3 is working\n"
     ]
    }
   ],
   "source": [
    " #LOGGING start of method \n",
    "print('started convert_weights_to_kg')\n",
    "\n",
    "#creating instance of dataextractor \n",
    "instance = DataExtractor()\n",
    "    \n",
    "#retrieving the data from the stores API\n",
    "df = instance.extract_from_s3('s3://data-handling-public/products.csv') \n",
    "                \n",
    "        \n"
   ]
  },
  {
   "cell_type": "code",
   "execution_count": 8,
   "metadata": {},
   "outputs": [],
   "source": [
    "#making a back up of the dataframe \n",
    "df_backup = df.copy()"
   ]
  },
  {
   "cell_type": "code",
   "execution_count": 24,
   "metadata": {},
   "outputs": [],
   "source": [
    "# run this to reset the df \n",
    "df = df_backup.copy()"
   ]
  },
  {
   "cell_type": "code",
   "execution_count": 19,
   "metadata": {},
   "outputs": [
    {
     "name": "stdout",
     "output_type": "stream",
     "text": [
      "<class 'pandas.core.frame.DataFrame'>\n",
      "RangeIndex: 1853 entries, 0 to 1852\n",
      "Data columns (total 10 columns):\n",
      " #   Column         Non-Null Count  Dtype \n",
      "---  ------         --------------  ----- \n",
      " 0   Unnamed: 0     1853 non-null   int64 \n",
      " 1   product_name   1849 non-null   object\n",
      " 2   product_price  1849 non-null   object\n",
      " 3   weight         1849 non-null   object\n",
      " 4   category       1849 non-null   object\n",
      " 5   EAN            1849 non-null   object\n",
      " 6   date_added     1849 non-null   object\n",
      " 7   uuid           1849 non-null   object\n",
      " 8   removed        1849 non-null   object\n",
      " 9   product_code   1849 non-null   object\n",
      "dtypes: int64(1), object(9)\n",
      "memory usage: 144.9+ KB\n"
     ]
    },
    {
     "data": {
      "text/plain": [
       "None"
      ]
     },
     "metadata": {},
     "output_type": "display_data"
    }
   ],
   "source": [
    "display(df.info())"
   ]
  },
  {
   "cell_type": "code",
   "execution_count": 27,
   "metadata": {},
   "outputs": [
    {
     "data": {
      "text/plain": [
       "array(['Still_avaliable', 'Removed', nan, 'T3QRRH7SRP', 'BPSADIOQOK',\n",
       "       'H5N71TV8AY'], dtype=object)"
      ]
     },
     "metadata": {},
     "output_type": "display_data"
    }
   ],
   "source": [
    "display(df['removed'].unique())"
   ]
  },
  {
   "cell_type": "code",
   "execution_count": 33,
   "metadata": {},
   "outputs": [
    {
     "data": {
      "text/html": [
       "<div>\n",
       "<style scoped>\n",
       "    .dataframe tbody tr th:only-of-type {\n",
       "        vertical-align: middle;\n",
       "    }\n",
       "\n",
       "    .dataframe tbody tr th {\n",
       "        vertical-align: top;\n",
       "    }\n",
       "\n",
       "    .dataframe thead th {\n",
       "        text-align: right;\n",
       "    }\n",
       "</style>\n",
       "<table border=\"1\" class=\"dataframe\">\n",
       "  <thead>\n",
       "    <tr style=\"text-align: right;\">\n",
       "      <th></th>\n",
       "      <th>Unnamed: 0</th>\n",
       "      <th>product_name</th>\n",
       "      <th>product_price</th>\n",
       "      <th>weight</th>\n",
       "      <th>category</th>\n",
       "      <th>EAN</th>\n",
       "      <th>date_added</th>\n",
       "      <th>uuid</th>\n",
       "      <th>removed</th>\n",
       "      <th>product_code</th>\n",
       "    </tr>\n",
       "  </thead>\n",
       "  <tbody>\n",
       "  </tbody>\n",
       "</table>\n",
       "</div>"
      ],
      "text/plain": [
       "Empty DataFrame\n",
       "Columns: [Unnamed: 0, product_name, product_price, weight, category, EAN, date_added, uuid, removed, product_code]\n",
       "Index: []"
      ]
     },
     "metadata": {},
     "output_type": "display_data"
    }
   ],
   "source": [
    "nan_rows = df.loc[df['removed'] == 'nan']\n",
    "\n",
    "display(nan_rows) \n",
    "#na_rows = df.loc[df['lat'] == 'N/A']"
   ]
  },
  {
   "cell_type": "code",
   "execution_count": 34,
   "metadata": {},
   "outputs": [
    {
     "data": {
      "text/plain": [
       "'Number of rows before cleaning: 1853'"
      ]
     },
     "metadata": {},
     "output_type": "display_data"
    },
    {
     "data": {
      "text/plain": [
       "'Number of rows after conversion: 1853'"
      ]
     },
     "metadata": {},
     "output_type": "display_data"
    },
    {
     "data": {
      "text/plain": [
       "'Number of rows after cleaning of removed column: 94'"
      ]
     },
     "metadata": {},
     "output_type": "display_data"
    },
    {
     "data": {
      "text/plain": [
       "'Rows with NaN values:'"
      ]
     },
     "metadata": {},
     "output_type": "display_data"
    },
    {
     "data": {
      "text/html": [
       "<div>\n",
       "<style scoped>\n",
       "    .dataframe tbody tr th:only-of-type {\n",
       "        vertical-align: middle;\n",
       "    }\n",
       "\n",
       "    .dataframe tbody tr th {\n",
       "        vertical-align: top;\n",
       "    }\n",
       "\n",
       "    .dataframe thead th {\n",
       "        text-align: right;\n",
       "    }\n",
       "</style>\n",
       "<table border=\"1\" class=\"dataframe\">\n",
       "  <thead>\n",
       "    <tr style=\"text-align: right;\">\n",
       "      <th></th>\n",
       "      <th>Unnamed: 0</th>\n",
       "      <th>product_name</th>\n",
       "      <th>product_price</th>\n",
       "      <th>weight</th>\n",
       "      <th>category</th>\n",
       "      <th>EAN</th>\n",
       "      <th>date_added</th>\n",
       "      <th>uuid</th>\n",
       "      <th>removed</th>\n",
       "      <th>product_code</th>\n",
       "      <th>weight_in_kg</th>\n",
       "    </tr>\n",
       "  </thead>\n",
       "  <tbody>\n",
       "    <tr>\n",
       "      <th>1676</th>\n",
       "      <td>1676</td>\n",
       "      <td>Nescafe Dolce Gusto - Latte Machiato 16pk</td>\n",
       "      <td>£3.69</td>\n",
       "      <td>16 x 10g</td>\n",
       "      <td>food-and-drink</td>\n",
       "      <td>8057338051145</td>\n",
       "      <td>2005-08-23</td>\n",
       "      <td>07aa6951-d029-46ed-8a63-12e3ba9db4b7</td>\n",
       "      <td>Removed</td>\n",
       "      <td>C4-9106468S</td>\n",
       "      <td>NaN</td>\n",
       "    </tr>\n",
       "    <tr>\n",
       "      <th>1692</th>\n",
       "      <td>1692</td>\n",
       "      <td>Heinz Tomato Soup 4 x 400g</td>\n",
       "      <td>£3.39</td>\n",
       "      <td>4 x 400g</td>\n",
       "      <td>food-and-drink</td>\n",
       "      <td>1685057010180</td>\n",
       "      <td>2020-10-10</td>\n",
       "      <td>d4d54e79-cd6d-4f4b-9bee-4058403299de</td>\n",
       "      <td>Removed</td>\n",
       "      <td>G8-4206489Y</td>\n",
       "      <td>NaN</td>\n",
       "    </tr>\n",
       "  </tbody>\n",
       "</table>\n",
       "</div>"
      ],
      "text/plain": [
       "      Unnamed: 0                               product_name product_price  \\\n",
       "1676        1676  Nescafe Dolce Gusto - Latte Machiato 16pk         £3.69   \n",
       "1692        1692                 Heinz Tomato Soup 4 x 400g         £3.39   \n",
       "\n",
       "        weight        category            EAN  date_added  \\\n",
       "1676  16 x 10g  food-and-drink  8057338051145  2005-08-23   \n",
       "1692  4 x 400g  food-and-drink  1685057010180  2020-10-10   \n",
       "\n",
       "                                      uuid  removed product_code  weight_in_kg  \n",
       "1676  07aa6951-d029-46ed-8a63-12e3ba9db4b7  Removed  C4-9106468S           NaN  \n",
       "1692  d4d54e79-cd6d-4f4b-9bee-4058403299de  Removed  G8-4206489Y           NaN  "
      ]
     },
     "metadata": {},
     "output_type": "display_data"
    },
    {
     "data": {
      "text/plain": [
       "'Number of rows after dropna: 92'"
      ]
     },
     "metadata": {},
     "output_type": "display_data"
    },
    {
     "data": {
      "text/plain": [
       "'Rows that will be dropped by category filter:'"
      ]
     },
     "metadata": {},
     "output_type": "display_data"
    },
    {
     "data": {
      "text/html": [
       "<div>\n",
       "<style scoped>\n",
       "    .dataframe tbody tr th:only-of-type {\n",
       "        vertical-align: middle;\n",
       "    }\n",
       "\n",
       "    .dataframe tbody tr th {\n",
       "        vertical-align: top;\n",
       "    }\n",
       "\n",
       "    .dataframe thead th {\n",
       "        text-align: right;\n",
       "    }\n",
       "</style>\n",
       "<table border=\"1\" class=\"dataframe\">\n",
       "  <thead>\n",
       "    <tr style=\"text-align: right;\">\n",
       "      <th></th>\n",
       "      <th>Unnamed: 0</th>\n",
       "      <th>product_name</th>\n",
       "      <th>product_price</th>\n",
       "      <th>weight</th>\n",
       "      <th>category</th>\n",
       "      <th>EAN</th>\n",
       "      <th>date_added</th>\n",
       "      <th>uuid</th>\n",
       "      <th>removed</th>\n",
       "      <th>product_code</th>\n",
       "      <th>weight_in_kg</th>\n",
       "    </tr>\n",
       "  </thead>\n",
       "  <tbody>\n",
       "  </tbody>\n",
       "</table>\n",
       "</div>"
      ],
      "text/plain": [
       "Empty DataFrame\n",
       "Columns: [Unnamed: 0, product_name, product_price, weight, category, EAN, date_added, uuid, removed, product_code, weight_in_kg]\n",
       "Index: []"
      ]
     },
     "metadata": {},
     "output_type": "display_data"
    },
    {
     "data": {
      "text/plain": [
       "'Number of rows after category filter: 92'"
      ]
     },
     "metadata": {},
     "output_type": "display_data"
    }
   ],
   "source": [
    "df = df_backup.copy()\n",
    "\n",
    "\n",
    "num_rows = df.shape[0]\n",
    "display(f\"Number of rows before cleaning: {num_rows}\")\n",
    "\n",
    "# Define the regex pattern to match numbers and letters\n",
    "weight_pattern = re.compile(r'([0-9.]+)([a-zA-Z]+)')\n",
    "\n",
    "# Conversion factors to kg\n",
    "conversion_factors = {\n",
    "    'kg': 1,\n",
    "    'g': 0.001,\n",
    "    'oz': 0.0283495231,\n",
    "    'ml': 0.001  # Assuming ml is equivalent to grams for water-based products\n",
    "}\n",
    "\n",
    "def convert_to_kg(weight):\n",
    "    if pd.isna(weight):\n",
    "        return None  # Handle NaN values\n",
    "    match = weight_pattern.match(str(weight))\n",
    "    if match:\n",
    "        number = float(match.group(1))  # Extract the numeric part\n",
    "        unit = match.group(2).lower()  # Extract the unit part\n",
    "        return number * conversion_factors.get(unit, 0)  # Convert to kg\n",
    "    return None  # Handle cases where regex does not match\n",
    "\n",
    "# Apply the conversion to the 'weight' column\n",
    "df['weight_in_kg'] = df['weight'].apply(convert_to_kg)\n",
    "\n",
    "num_rows = df.shape[0]\n",
    "display(f\"Number of rows after conversion: {num_rows}\")\n",
    "\n",
    "# Correct the misspelled value\n",
    "#df['removed'] = df['removed'].replace('Still_avaliable', 'Still_available')\n",
    "df['removed'].str.replace('Still_avaliable', 'Still_available') \n",
    "\n",
    "\n",
    "# Filter the DataFrame to keep only 'Still_available' or 'Removed'\n",
    "valid_values = ['Still_available', 'Removed']\n",
    "df = df[df['removed'].isin(valid_values)]\n",
    "\n",
    "num_rows = df.shape[0]\n",
    "display(f\"Number of rows after cleaning of removed column: {num_rows}\")\n",
    "\n",
    "\n",
    "# Capture rows with NaN values before dropping them\n",
    "rows_with_na = df[df.isna().any(axis=1)]\n",
    "display(\"Rows with NaN values:\")\n",
    "display(rows_with_na)\n",
    "\n",
    "# Drop rows with NaN values\n",
    "df = df.dropna(axis=0)\n",
    "\n",
    "num_rows = df.shape[0]\n",
    "display(f\"Number of rows after dropna: {num_rows}\")\n",
    "\n",
    "# Define the regex pattern for the 'category' column\n",
    "category_pattern = re.compile(r'^[a-zA-Z\\-]+$')\n",
    "\n",
    "# Capture rows that will be dropped by the category filter\n",
    "rows_dropped_by_category = df[~df['category'].apply(lambda x: bool(category_pattern.match(str(x))))]\n",
    "\n",
    "display(\"Rows that will be dropped by category filter:\")\n",
    "display(rows_dropped_by_category)\n",
    "\n",
    "# Filter rows based on the category pattern\n",
    "df = df[df['category'].apply(lambda x: bool(category_pattern.match(str(x))))]\n",
    "\n",
    "num_rows = df.shape[0]\n",
    "display(f\"Number of rows after category filter: {num_rows}\")\n",
    "\n",
    "\n"
   ]
  }
 ],
 "metadata": {
  "kernelspec": {
   "display_name": "multinational_env",
   "language": "python",
   "name": "python3"
  },
  "language_info": {
   "codemirror_mode": {
    "name": "ipython",
    "version": 3
   },
   "file_extension": ".py",
   "mimetype": "text/x-python",
   "name": "python",
   "nbconvert_exporter": "python",
   "pygments_lexer": "ipython3",
   "version": "3.12.3"
  }
 },
 "nbformat": 4,
 "nbformat_minor": 2
}
