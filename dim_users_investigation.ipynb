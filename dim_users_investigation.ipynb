{
 "cells": [
  {
   "cell_type": "code",
   "execution_count": 441,
   "metadata": {},
   "outputs": [],
   "source": [
    "import pandas as pd\n",
    "import logging \n",
    "import numpy as np\n",
    "import re \n",
    "from IPython.display import display\n",
    "from sqlalchemy import MetaData, Table\n",
    "from database_utils import DatabaseConnector\n",
    "from data_extraction import DataExtractor\n",
    "from unidecode import unidecode\n",
    "from dateutil import parser\n",
    "\n",
    "logging.basicConfig(level=logging.INFO, format='%(asctime)s - %(name)s - %(levelname)s - %(message)s')\n"
   ]
  },
  {
   "cell_type": "code",
   "execution_count": 442,
   "metadata": {},
   "outputs": [
    {
     "name": "stdout",
     "output_type": "stream",
     "text": [
      "read_data_from_table is working\n",
      "init_db_engine is working\n",
      "read_db_creds is working\n"
     ]
    }
   ],
   "source": [
    "# Create an instance of DataExtractor so that I can use it's methods \n",
    "instance = DataExtractor()\n",
    "\n",
    "# Read data from the 'legacy_users' table using the DataExtractor method \n",
    "df = instance.read_data_from_table('legacy_users')  \n",
    "        "
   ]
  },
  {
   "cell_type": "code",
   "execution_count": 443,
   "metadata": {},
   "outputs": [],
   "source": [
    "#making a back up of the dataframe \n",
    "df_backup = df.copy()"
   ]
  },
  {
   "cell_type": "code",
   "execution_count": 444,
   "metadata": {},
   "outputs": [],
   "source": [
    "# reset df \n",
    "df = df_backup.copy() "
   ]
  },
  {
   "cell_type": "code",
   "execution_count": 445,
   "metadata": {},
   "outputs": [
    {
     "name": "stdout",
     "output_type": "stream",
     "text": [
      "<class 'pandas.core.frame.DataFrame'>\n",
      "RangeIndex: 15320 entries, 0 to 15319\n",
      "Data columns (total 12 columns):\n",
      " #   Column         Non-Null Count  Dtype \n",
      "---  ------         --------------  ----- \n",
      " 0   index          15320 non-null  int64 \n",
      " 1   first_name     15320 non-null  object\n",
      " 2   last_name      15320 non-null  object\n",
      " 3   date_of_birth  15320 non-null  object\n",
      " 4   company        15320 non-null  object\n",
      " 5   email_address  15320 non-null  object\n",
      " 6   address        15320 non-null  object\n",
      " 7   country        15320 non-null  object\n",
      " 8   country_code   15320 non-null  object\n",
      " 9   phone_number   15320 non-null  object\n",
      " 10  join_date      15320 non-null  object\n",
      " 11  user_uuid      15320 non-null  object\n",
      "dtypes: int64(1), object(11)\n",
      "memory usage: 1.4+ MB\n"
     ]
    }
   ],
   "source": [
    "df.info()"
   ]
  },
  {
   "cell_type": "code",
   "execution_count": 446,
   "metadata": {},
   "outputs": [
    {
     "name": "stdout",
     "output_type": "stream",
     "text": [
      "Number of rows at start: 15320\n",
      "Number of rows at end: 15299\n"
     ]
    }
   ],
   "source": [
    "# STEP 1 drop null rows \n",
    "\n",
    "# Replace 'NULL' with np.nan\n",
    "\n",
    "num_rows = df.shape[0]\n",
    "print(f\"Number of rows at start: {num_rows}\")\n",
    "\n",
    "#log \n",
    "#null_rows = df.loc[df['country_code'] == 'NULL'] \n",
    "#display('before cleaning', null_rows)\n",
    "\n",
    "# Drop rows with any NaN values\n",
    "df.replace('NULL', np.nan, inplace=True)\n",
    "df.dropna(inplace=True)\n",
    "\n",
    "#log \n",
    "#null_rows = df.loc[df['country_code'] == 'NULL'] \n",
    "#display('after cleaning', null_rows)\n",
    "\n",
    "#num_rows = df.shape[0]\n",
    "#print(f\"Number of rows after taking out null: {num_rows}\")\n",
    "\n",
    "# drop null values and dupes \n",
    "\n",
    "# drop the duplicates from the dataframe directly ('in place')  \n",
    "df = df.drop_duplicates()\n",
    "\n",
    "num_rows = df.shape[0]\n",
    "print(f\"Number of rows at end: {num_rows}\")\n"
   ]
  },
  {
   "cell_type": "code",
   "execution_count": 447,
   "metadata": {},
   "outputs": [
    {
     "data": {
      "text/plain": [
       "array(['DE', 'GB', 'US', 'VSM4IZ4EL3', 'QVUW9JSKY3', 'GGB', '0CU6LW3NKB',\n",
       "       'PG8MOC0UZI', 'NTCGYW8LVC', 'FB13AKRI21', 'OS2P9CMHR6',\n",
       "       '5D74J6FPFJ', 'LZGTB0T5Z7', 'IM8MN1L9MJ', 'RVRFD92E48',\n",
       "       'XKI9UXSCZ1', 'QREF9WLI2A', 'XPVCZE2L8B', '44YAIDY048'],\n",
       "      dtype=object)"
      ]
     },
     "execution_count": 447,
     "metadata": {},
     "output_type": "execute_result"
    }
   ],
   "source": [
    "df['country_code'].unique()"
   ]
  },
  {
   "cell_type": "code",
   "execution_count": 448,
   "metadata": {},
   "outputs": [],
   "source": [
    "# STEP 2 clean country codes so I have something to base my filtering out of rubbish with \n",
    "\n",
    "# replace 'GGB' with 'GB' in the 'country_code' column of the cleaned_country_names_and_codes_df\n",
    "df['country_code'] = df['country_code'].replace('GGB', 'GB')\n",
    "\n"
   ]
  },
  {
   "cell_type": "code",
   "execution_count": 449,
   "metadata": {},
   "outputs": [
    {
     "data": {
      "text/plain": [
       "array(['DE', 'GB', 'US', 'VSM4IZ4EL3', 'QVUW9JSKY3', '0CU6LW3NKB',\n",
       "       'PG8MOC0UZI', 'NTCGYW8LVC', 'FB13AKRI21', 'OS2P9CMHR6',\n",
       "       '5D74J6FPFJ', 'LZGTB0T5Z7', 'IM8MN1L9MJ', 'RVRFD92E48',\n",
       "       'XKI9UXSCZ1', 'QREF9WLI2A', 'XPVCZE2L8B', '44YAIDY048'],\n",
       "      dtype=object)"
      ]
     },
     "execution_count": 449,
     "metadata": {},
     "output_type": "execute_result"
    }
   ],
   "source": [
    "df['country_code'].unique()"
   ]
  },
  {
   "cell_type": "code",
   "execution_count": 450,
   "metadata": {},
   "outputs": [
    {
     "data": {
      "text/plain": [
       "'before cleaning'"
      ]
     },
     "metadata": {},
     "output_type": "display_data"
    },
    {
     "data": {
      "text/html": [
       "<div>\n",
       "<style scoped>\n",
       "    .dataframe tbody tr th:only-of-type {\n",
       "        vertical-align: middle;\n",
       "    }\n",
       "\n",
       "    .dataframe tbody tr th {\n",
       "        vertical-align: top;\n",
       "    }\n",
       "\n",
       "    .dataframe thead th {\n",
       "        text-align: right;\n",
       "    }\n",
       "</style>\n",
       "<table border=\"1\" class=\"dataframe\">\n",
       "  <thead>\n",
       "    <tr style=\"text-align: right;\">\n",
       "      <th></th>\n",
       "      <th>index</th>\n",
       "      <th>first_name</th>\n",
       "      <th>last_name</th>\n",
       "      <th>date_of_birth</th>\n",
       "      <th>company</th>\n",
       "      <th>email_address</th>\n",
       "      <th>address</th>\n",
       "      <th>country</th>\n",
       "      <th>country_code</th>\n",
       "      <th>phone_number</th>\n",
       "      <th>join_date</th>\n",
       "      <th>user_uuid</th>\n",
       "    </tr>\n",
       "  </thead>\n",
       "  <tbody>\n",
       "    <tr>\n",
       "      <th>752</th>\n",
       "      <td>752</td>\n",
       "      <td>PYCLKLLC7I</td>\n",
       "      <td>W350SCUD6R</td>\n",
       "      <td>KBTI7FI7Y3</td>\n",
       "      <td>R7IZUNSQX0</td>\n",
       "      <td>3Q791B3VIY</td>\n",
       "      <td>YW2YXLOQ5J</td>\n",
       "      <td>I7G4DMDZOZ</td>\n",
       "      <td>VSM4IZ4EL3</td>\n",
       "      <td>A4Q4HQBI3I</td>\n",
       "      <td>JJ2PDVNPRO</td>\n",
       "      <td>W43MSCMQ88</td>\n",
       "    </tr>\n",
       "    <tr>\n",
       "      <th>1046</th>\n",
       "      <td>1047</td>\n",
       "      <td>GI4C78KWH0</td>\n",
       "      <td>UTB5PPYFG8</td>\n",
       "      <td>OFH8YGZJWN</td>\n",
       "      <td>CA1XGS8GZW</td>\n",
       "      <td>7HSZB429UK</td>\n",
       "      <td>63GXGYR3XL</td>\n",
       "      <td>AJ1ENKS3QL</td>\n",
       "      <td>QVUW9JSKY3</td>\n",
       "      <td>64ZO0ONUQO</td>\n",
       "      <td>AHN6EKASH3</td>\n",
       "      <td>BUE34OU973</td>\n",
       "    </tr>\n",
       "    <tr>\n",
       "      <th>2995</th>\n",
       "      <td>2997</td>\n",
       "      <td>DPAJNJL6PR</td>\n",
       "      <td>B8ZGN8ZJ84</td>\n",
       "      <td>PQPEUO937L</td>\n",
       "      <td>0YJ2FRMDB4</td>\n",
       "      <td>O5Q6D7FDAF</td>\n",
       "      <td>Y1GY1G3EM5</td>\n",
       "      <td>XGI7FM0VBJ</td>\n",
       "      <td>0CU6LW3NKB</td>\n",
       "      <td>DU9UJ42F3E</td>\n",
       "      <td>FYF2FAPZF3</td>\n",
       "      <td>56URKLG01W</td>\n",
       "    </tr>\n",
       "    <tr>\n",
       "      <th>3536</th>\n",
       "      <td>3539</td>\n",
       "      <td>E5139W1FJ3</td>\n",
       "      <td>X88YLZX0JX</td>\n",
       "      <td>7KGJ3C5TSW</td>\n",
       "      <td>648S19YUFF</td>\n",
       "      <td>BYU3R2LQF8</td>\n",
       "      <td>GOWRW4JCE7</td>\n",
       "      <td>S0E37H52ON</td>\n",
       "      <td>PG8MOC0UZI</td>\n",
       "      <td>LJ6H5XBD2A</td>\n",
       "      <td>QH6Z9ZPX37</td>\n",
       "      <td>A1W2TVMK1S</td>\n",
       "    </tr>\n",
       "    <tr>\n",
       "      <th>5306</th>\n",
       "      <td>5309</td>\n",
       "      <td>XKDVQD7BH2</td>\n",
       "      <td>4YSEX8AY1Z</td>\n",
       "      <td>RQTF5XSXP4</td>\n",
       "      <td>GKJZ58DTHT</td>\n",
       "      <td>789HWCYC7M</td>\n",
       "      <td>KJW5WR7W16</td>\n",
       "      <td>XN9NGL5C0B</td>\n",
       "      <td>NTCGYW8LVC</td>\n",
       "      <td>MUXPJD0BZY</td>\n",
       "      <td>LYVWXBBI6F</td>\n",
       "      <td>LNRNI6X6VL</td>\n",
       "    </tr>\n",
       "    <tr>\n",
       "      <th>6420</th>\n",
       "      <td>6426</td>\n",
       "      <td>EI10BU4INS</td>\n",
       "      <td>SH6Y92V6IK</td>\n",
       "      <td>D2OZZHWOLK</td>\n",
       "      <td>LNFBRXXUT4</td>\n",
       "      <td>TFEA83AAHP</td>\n",
       "      <td>XGYW43ZF8B</td>\n",
       "      <td>50KUU3PQUF</td>\n",
       "      <td>FB13AKRI21</td>\n",
       "      <td>GA2YQ189FL</td>\n",
       "      <td>DM4Q84QZ03</td>\n",
       "      <td>23WTQ63AET</td>\n",
       "    </tr>\n",
       "    <tr>\n",
       "      <th>8386</th>\n",
       "      <td>8398</td>\n",
       "      <td>I7IJDAPMIM</td>\n",
       "      <td>LUNRZWUKRB</td>\n",
       "      <td>QTVEU5TR8H</td>\n",
       "      <td>JXKOHA5B8F</td>\n",
       "      <td>JK2J6N4DLG</td>\n",
       "      <td>FW3EMRJ25W</td>\n",
       "      <td>EWE3U0DZIV</td>\n",
       "      <td>OS2P9CMHR6</td>\n",
       "      <td>G2D0EI6DT3</td>\n",
       "      <td>DOKMYDVV6L</td>\n",
       "      <td>8FB8XB78NQ</td>\n",
       "    </tr>\n",
       "    <tr>\n",
       "      <th>9013</th>\n",
       "      <td>9026</td>\n",
       "      <td>TG6PAO2RAB</td>\n",
       "      <td>PIG6VAZUPM</td>\n",
       "      <td>L3E8OV4UAC</td>\n",
       "      <td>ROL0IMK6UH</td>\n",
       "      <td>EIV7XWUJ8I</td>\n",
       "      <td>KHJLOAKCW2</td>\n",
       "      <td>GMRBOMI0O1</td>\n",
       "      <td>5D74J6FPFJ</td>\n",
       "      <td>65I9CX7VF2</td>\n",
       "      <td>YBUYH8T6OE</td>\n",
       "      <td>HEGG0N3ICG</td>\n",
       "    </tr>\n",
       "    <tr>\n",
       "      <th>10211</th>\n",
       "      <td>10224</td>\n",
       "      <td>VCQL3ML6ZT</td>\n",
       "      <td>HULT86HONJ</td>\n",
       "      <td>TLSTUEIKI0</td>\n",
       "      <td>QSS0MWBGFZ</td>\n",
       "      <td>1WNILGM5MK</td>\n",
       "      <td>R4HMRLEIXV</td>\n",
       "      <td>YOTSVPRBQ7</td>\n",
       "      <td>LZGTB0T5Z7</td>\n",
       "      <td>6VGTZ6ANEA</td>\n",
       "      <td>SRH5SM36LH</td>\n",
       "      <td>AKXDQ62K1V</td>\n",
       "    </tr>\n",
       "    <tr>\n",
       "      <th>10360</th>\n",
       "      <td>10373</td>\n",
       "      <td>G1SI2RM0KA</td>\n",
       "      <td>67VJEE6DS2</td>\n",
       "      <td>YTC82GP4XE</td>\n",
       "      <td>M4Z6M30SJ3</td>\n",
       "      <td>U1AZKY6URZ</td>\n",
       "      <td>N9D1AYQOJ0</td>\n",
       "      <td>5EFAFD0JLI</td>\n",
       "      <td>IM8MN1L9MJ</td>\n",
       "      <td>Y0AKRC4TUP</td>\n",
       "      <td>4JIOCHZY0W</td>\n",
       "      <td>7JTCX4UVLK</td>\n",
       "    </tr>\n",
       "    <tr>\n",
       "      <th>11366</th>\n",
       "      <td>11381</td>\n",
       "      <td>31XQ1Z35J9</td>\n",
       "      <td>8LR57D7RZ0</td>\n",
       "      <td>O1LIA1MT1N</td>\n",
       "      <td>66V9WU2HU1</td>\n",
       "      <td>XASHXWHN80</td>\n",
       "      <td>NZDOEJPB2M</td>\n",
       "      <td>PNRMPSYR1J</td>\n",
       "      <td>RVRFD92E48</td>\n",
       "      <td>CLGG66L3JK</td>\n",
       "      <td>3CUODA3HTC</td>\n",
       "      <td>C7N3K5VF9U</td>\n",
       "    </tr>\n",
       "    <tr>\n",
       "      <th>12177</th>\n",
       "      <td>12197</td>\n",
       "      <td>2GU3G97VI1</td>\n",
       "      <td>91RL47Q2WC</td>\n",
       "      <td>RQI3KQXFBQ</td>\n",
       "      <td>D4KULDKYME</td>\n",
       "      <td>YM2YGPR8W1</td>\n",
       "      <td>4M2VPXJHBE</td>\n",
       "      <td>RQRB7RMTAD</td>\n",
       "      <td>XKI9UXSCZ1</td>\n",
       "      <td>35OGAP18JU</td>\n",
       "      <td>8BAER2328P</td>\n",
       "      <td>YIBFXQLD4A</td>\n",
       "    </tr>\n",
       "    <tr>\n",
       "      <th>13111</th>\n",
       "      <td>13135</td>\n",
       "      <td>F3LGJ1NZ0I</td>\n",
       "      <td>IXWSZZ2VPN</td>\n",
       "      <td>1IA43NTJFB</td>\n",
       "      <td>9WSM9X17XK</td>\n",
       "      <td>M5ZDMLPP45</td>\n",
       "      <td>W5VT0DOEKO</td>\n",
       "      <td>3518UD5CE8</td>\n",
       "      <td>QREF9WLI2A</td>\n",
       "      <td>EIP7YUL5CE</td>\n",
       "      <td>U9CRKSTONU</td>\n",
       "      <td>55II6WK8D2</td>\n",
       "    </tr>\n",
       "    <tr>\n",
       "      <th>14101</th>\n",
       "      <td>14124</td>\n",
       "      <td>DD0K0FUDRY</td>\n",
       "      <td>Q9U9JNG44F</td>\n",
       "      <td>M7HZECVQVC</td>\n",
       "      <td>DJXWS4B52O</td>\n",
       "      <td>X29OBIYMTI</td>\n",
       "      <td>8EK3ZFIGXL</td>\n",
       "      <td>7ZNO5EBALT</td>\n",
       "      <td>XPVCZE2L8B</td>\n",
       "      <td>XBL6JO9DU6</td>\n",
       "      <td>9YLGYDEZNV</td>\n",
       "      <td>1YOGCW4V46</td>\n",
       "    </tr>\n",
       "    <tr>\n",
       "      <th>14499</th>\n",
       "      <td>14523</td>\n",
       "      <td>YWM71XYN17</td>\n",
       "      <td>PYC56FDP4V</td>\n",
       "      <td>6WAQ2SVK0Q</td>\n",
       "      <td>WGP4NBYFT6</td>\n",
       "      <td>6VIJ9KJU8P</td>\n",
       "      <td>NI3KEEZPTY</td>\n",
       "      <td>T4WBZSW0XI</td>\n",
       "      <td>44YAIDY048</td>\n",
       "      <td>QVAV1H2QVH</td>\n",
       "      <td>7PF0SMLXII</td>\n",
       "      <td>7PYPXC0PPN</td>\n",
       "    </tr>\n",
       "  </tbody>\n",
       "</table>\n",
       "</div>"
      ],
      "text/plain": [
       "       index  first_name   last_name date_of_birth     company email_address  \\\n",
       "752      752  PYCLKLLC7I  W350SCUD6R    KBTI7FI7Y3  R7IZUNSQX0    3Q791B3VIY   \n",
       "1046    1047  GI4C78KWH0  UTB5PPYFG8    OFH8YGZJWN  CA1XGS8GZW    7HSZB429UK   \n",
       "2995    2997  DPAJNJL6PR  B8ZGN8ZJ84    PQPEUO937L  0YJ2FRMDB4    O5Q6D7FDAF   \n",
       "3536    3539  E5139W1FJ3  X88YLZX0JX    7KGJ3C5TSW  648S19YUFF    BYU3R2LQF8   \n",
       "5306    5309  XKDVQD7BH2  4YSEX8AY1Z    RQTF5XSXP4  GKJZ58DTHT    789HWCYC7M   \n",
       "6420    6426  EI10BU4INS  SH6Y92V6IK    D2OZZHWOLK  LNFBRXXUT4    TFEA83AAHP   \n",
       "8386    8398  I7IJDAPMIM  LUNRZWUKRB    QTVEU5TR8H  JXKOHA5B8F    JK2J6N4DLG   \n",
       "9013    9026  TG6PAO2RAB  PIG6VAZUPM    L3E8OV4UAC  ROL0IMK6UH    EIV7XWUJ8I   \n",
       "10211  10224  VCQL3ML6ZT  HULT86HONJ    TLSTUEIKI0  QSS0MWBGFZ    1WNILGM5MK   \n",
       "10360  10373  G1SI2RM0KA  67VJEE6DS2    YTC82GP4XE  M4Z6M30SJ3    U1AZKY6URZ   \n",
       "11366  11381  31XQ1Z35J9  8LR57D7RZ0    O1LIA1MT1N  66V9WU2HU1    XASHXWHN80   \n",
       "12177  12197  2GU3G97VI1  91RL47Q2WC    RQI3KQXFBQ  D4KULDKYME    YM2YGPR8W1   \n",
       "13111  13135  F3LGJ1NZ0I  IXWSZZ2VPN    1IA43NTJFB  9WSM9X17XK    M5ZDMLPP45   \n",
       "14101  14124  DD0K0FUDRY  Q9U9JNG44F    M7HZECVQVC  DJXWS4B52O    X29OBIYMTI   \n",
       "14499  14523  YWM71XYN17  PYC56FDP4V    6WAQ2SVK0Q  WGP4NBYFT6    6VIJ9KJU8P   \n",
       "\n",
       "          address     country country_code phone_number   join_date  \\\n",
       "752    YW2YXLOQ5J  I7G4DMDZOZ   VSM4IZ4EL3   A4Q4HQBI3I  JJ2PDVNPRO   \n",
       "1046   63GXGYR3XL  AJ1ENKS3QL   QVUW9JSKY3   64ZO0ONUQO  AHN6EKASH3   \n",
       "2995   Y1GY1G3EM5  XGI7FM0VBJ   0CU6LW3NKB   DU9UJ42F3E  FYF2FAPZF3   \n",
       "3536   GOWRW4JCE7  S0E37H52ON   PG8MOC0UZI   LJ6H5XBD2A  QH6Z9ZPX37   \n",
       "5306   KJW5WR7W16  XN9NGL5C0B   NTCGYW8LVC   MUXPJD0BZY  LYVWXBBI6F   \n",
       "6420   XGYW43ZF8B  50KUU3PQUF   FB13AKRI21   GA2YQ189FL  DM4Q84QZ03   \n",
       "8386   FW3EMRJ25W  EWE3U0DZIV   OS2P9CMHR6   G2D0EI6DT3  DOKMYDVV6L   \n",
       "9013   KHJLOAKCW2  GMRBOMI0O1   5D74J6FPFJ   65I9CX7VF2  YBUYH8T6OE   \n",
       "10211  R4HMRLEIXV  YOTSVPRBQ7   LZGTB0T5Z7   6VGTZ6ANEA  SRH5SM36LH   \n",
       "10360  N9D1AYQOJ0  5EFAFD0JLI   IM8MN1L9MJ   Y0AKRC4TUP  4JIOCHZY0W   \n",
       "11366  NZDOEJPB2M  PNRMPSYR1J   RVRFD92E48   CLGG66L3JK  3CUODA3HTC   \n",
       "12177  4M2VPXJHBE  RQRB7RMTAD   XKI9UXSCZ1   35OGAP18JU  8BAER2328P   \n",
       "13111  W5VT0DOEKO  3518UD5CE8   QREF9WLI2A   EIP7YUL5CE  U9CRKSTONU   \n",
       "14101  8EK3ZFIGXL  7ZNO5EBALT   XPVCZE2L8B   XBL6JO9DU6  9YLGYDEZNV   \n",
       "14499  NI3KEEZPTY  T4WBZSW0XI   44YAIDY048   QVAV1H2QVH  7PF0SMLXII   \n",
       "\n",
       "        user_uuid  \n",
       "752    W43MSCMQ88  \n",
       "1046   BUE34OU973  \n",
       "2995   56URKLG01W  \n",
       "3536   A1W2TVMK1S  \n",
       "5306   LNRNI6X6VL  \n",
       "6420   23WTQ63AET  \n",
       "8386   8FB8XB78NQ  \n",
       "9013   HEGG0N3ICG  \n",
       "10211  AKXDQ62K1V  \n",
       "10360  7JTCX4UVLK  \n",
       "11366  C7N3K5VF9U  \n",
       "12177  YIBFXQLD4A  \n",
       "13111  55II6WK8D2  \n",
       "14101  1YOGCW4V46  \n",
       "14499  7PYPXC0PPN  "
      ]
     },
     "metadata": {},
     "output_type": "display_data"
    },
    {
     "data": {
      "text/plain": [
       "'after cleaning'"
      ]
     },
     "metadata": {},
     "output_type": "display_data"
    },
    {
     "data": {
      "text/html": [
       "<div>\n",
       "<style scoped>\n",
       "    .dataframe tbody tr th:only-of-type {\n",
       "        vertical-align: middle;\n",
       "    }\n",
       "\n",
       "    .dataframe tbody tr th {\n",
       "        vertical-align: top;\n",
       "    }\n",
       "\n",
       "    .dataframe thead th {\n",
       "        text-align: right;\n",
       "    }\n",
       "</style>\n",
       "<table border=\"1\" class=\"dataframe\">\n",
       "  <thead>\n",
       "    <tr style=\"text-align: right;\">\n",
       "      <th></th>\n",
       "      <th>index</th>\n",
       "      <th>first_name</th>\n",
       "      <th>last_name</th>\n",
       "      <th>date_of_birth</th>\n",
       "      <th>company</th>\n",
       "      <th>email_address</th>\n",
       "      <th>address</th>\n",
       "      <th>country</th>\n",
       "      <th>country_code</th>\n",
       "      <th>phone_number</th>\n",
       "      <th>join_date</th>\n",
       "      <th>user_uuid</th>\n",
       "    </tr>\n",
       "  </thead>\n",
       "  <tbody>\n",
       "  </tbody>\n",
       "</table>\n",
       "</div>"
      ],
      "text/plain": [
       "Empty DataFrame\n",
       "Columns: [index, first_name, last_name, date_of_birth, company, email_address, address, country, country_code, phone_number, join_date, user_uuid]\n",
       "Index: []"
      ]
     },
     "metadata": {},
     "output_type": "display_data"
    }
   ],
   "source": [
    "# STEP 3 remove rows that are random letters and characters \n",
    "\n",
    "regex_country_code = '^[A-Z]{2}$'\n",
    "\n",
    "dropped_rows = df.loc[~df['country_code'].str.match(regex_country_code)] \n",
    "display('before cleaning', dropped_rows)\n",
    "\n",
    "df = df[df['country_code'].str.match(regex_country_code)] \n",
    "\n",
    "dropped_rows = df.loc[~df['country_code'].str.match(regex_country_code)] \n",
    "#display('before cleaning', null_rows)\n",
    "display('after cleaning', dropped_rows)"
   ]
  },
  {
   "cell_type": "code",
   "execution_count": 451,
   "metadata": {},
   "outputs": [
    {
     "name": "stdout",
     "output_type": "stream",
     "text": [
      "Number of rows before country cleaning: 15284\n",
      "Number of rows after country cleaning: 15284\n"
     ]
    }
   ],
   "source": [
    "# STEP 4 clean country names\n",
    "# regex pattern for filtering out names that contain numbers, special characters (apart from '-')  \n",
    "\n",
    "num_rows = df.shape[0]\n",
    "print(f\"Number of rows before country cleaning: {num_rows}\")\n",
    "\n",
    "pattern = r'^[a-zA-Z\\s-]+$'\n",
    "\n",
    "#filters the data frame on 2 boolean indexes: the regex boolean index and whether it contains 'NULL' \n",
    "df = df[df['country'].str.match(pattern)] # & (df['country'] != 'NULL')]\n",
    "    \n",
    "num_rows = df.shape[0]\n",
    "print(f\"Number of rows after country cleaning: {num_rows}\")"
   ]
  },
  {
   "cell_type": "code",
   "execution_count": 452,
   "metadata": {},
   "outputs": [
    {
     "name": "stdout",
     "output_type": "stream",
     "text": [
      "Number of rows before name cleaning: 15284\n",
      "All names match the pattern.\n",
      "Number of rows after name cleaning: 15284\n"
     ]
    }
   ],
   "source": [
    "# STEP 5 clean first and last names \n",
    "num_rows = df.shape[0]\n",
    "print(f\"Number of rows before name cleaning: {num_rows}\")\n",
    "\n",
    "\n",
    "#convert first_name and last_name  \n",
    "df['first_name'] = df['first_name'].str.lower()\n",
    "df['last_name'] = df['last_name'].str.lower()\n",
    "\n",
    "# DEBUGGING: log that it's worked \n",
    "#after_lower_case_example = self.df.iloc[0]['first_name']\n",
    "#print('this is the name after transformation:', after_lower_case_example)\n",
    "\n",
    "# strip whitespace from first_name and last_name fields\n",
    "df['first_name'] = df['first_name'].str.strip()\n",
    "df['last_name'] = df['last_name'].str.strip()\n",
    "\n",
    "# Remove special characters using unidecode\n",
    "df['first_name'] = df['first_name'].apply(unidecode)\n",
    "df['last_name'] = df['last_name'].apply(unidecode)\n",
    "\n",
    "regex_pattern = r'^[A-Za-z ._-]+$'\n",
    "\n",
    "not_applied = df[~df['first_name'].str.match(regex_pattern, na=False)]\n",
    "\n",
    "if not not_applied.empty:\n",
    "    print(\"Names not matching the pattern:\")\n",
    "    print(not_applied)\n",
    "else:\n",
    "    print(\"All names match the pattern.\")\n",
    "\n",
    "num_rows = df.shape[0]\n",
    "print(f\"Number of rows after name cleaning: {num_rows}\")\n"
   ]
  },
  {
   "cell_type": "code",
   "execution_count": 453,
   "metadata": {},
   "outputs": [
    {
     "data": {
      "text/plain": [
       "index                                             697\n",
       "first_name                                      scott\n",
       "last_name                                       jones\n",
       "date_of_birth                              1971/10/23\n",
       "company                       Jordan, Brown and Evans\n",
       "email_address                         tom73@jones.net\n",
       "address            44 Irene plaza\\nNew Abbie\\nM4H 0NH\n",
       "country                                United Kingdom\n",
       "country_code                                       GB\n",
       "phone_number                            +449098790834\n",
       "join_date                                  2012-10-08\n",
       "user_uuid        9ac79783-f8e9-4639-b891-ce6b0d65028a\n",
       "Name: 697, dtype: object"
      ]
     },
     "metadata": {},
     "output_type": "display_data"
    },
    {
     "data": {
      "text/plain": [
       "index                                                      3079\n",
       "first_name                                                 june\n",
       "last_name                                             wilkinson\n",
       "date_of_birth                                        1970-04-19\n",
       "company                                             Dunn-Thomas\n",
       "email_address                                 zgraham@ahmed.com\n",
       "address          Studio 62M\\nAbigail forks\\nSamuelfurt\\nE3H 6US\n",
       "country                                          United Kingdom\n",
       "country_code                                                 GB\n",
       "phone_number                                      0117 496 0803\n",
       "join_date                                            2012-11-22\n",
       "user_uuid                  8e7878be-bd04-4ab8-add4-ba230ea3ab96\n",
       "Name: 3076, dtype: object"
      ]
     },
     "metadata": {},
     "output_type": "display_data"
    },
    {
     "data": {
      "text/plain": [
       "index                                                            1\n",
       "first_name                                                     guy\n",
       "last_name                                                    allen\n",
       "date_of_birth                                           1940-12-01\n",
       "company                                                    Fox Ltd\n",
       "email_address                         rhodesclifford@henderson.com\n",
       "address          Studio 22a\\nLynne terrace\\nMcCarthymouth\\nTF0 9GH\n",
       "country                                             United Kingdom\n",
       "country_code                                                    GB\n",
       "phone_number                                       (0161) 496 0674\n",
       "join_date                                               2001-12-20\n",
       "user_uuid                     8fe96c3a-d62d-4eb5-b313-cf12d9126a49\n",
       "Name: 1, dtype: object"
      ]
     },
     "metadata": {},
     "output_type": "display_data"
    },
    {
     "data": {
      "text/plain": [
       "index                                               2\n",
       "first_name                                      harry\n",
       "last_name                                    lawrence\n",
       "date_of_birth                              1995-08-02\n",
       "company                     Johnson, Jones and Harris\n",
       "email_address            glen98@bryant-marshall.co.uk\n",
       "address            92 Ann drive\\nJoanborough\\nSK0 6LR\n",
       "country                                United Kingdom\n",
       "country_code                                       GB\n",
       "phone_number                        +44(0)121 4960340\n",
       "join_date                                  2016-12-16\n",
       "user_uuid        fc461df4-b919-48b2-909e-55c95a03fe6b\n",
       "Name: 2, dtype: object"
      ]
     },
     "metadata": {},
     "output_type": "display_data"
    }
   ],
   "source": [
    "display(df.iloc[697]) \n",
    "\n",
    "display(df.iloc[3066]) \n",
    "\n",
    "display(df.iloc[1]) \n",
    "\n",
    "display(df.iloc[2]) \n",
    "\n"
   ]
  },
  {
   "cell_type": "code",
   "execution_count": 454,
   "metadata": {},
   "outputs": [
    {
     "name": "stdout",
     "output_type": "stream",
     "text": [
      "Number of rows before dob cleaning: 15284\n"
     ]
    },
    {
     "data": {
      "text/plain": [
       "'Rows that would be converted to NULL:'"
      ]
     },
     "metadata": {},
     "output_type": "display_data"
    },
    {
     "data": {
      "text/html": [
       "<div>\n",
       "<style scoped>\n",
       "    .dataframe tbody tr th:only-of-type {\n",
       "        vertical-align: middle;\n",
       "    }\n",
       "\n",
       "    .dataframe tbody tr th {\n",
       "        vertical-align: top;\n",
       "    }\n",
       "\n",
       "    .dataframe thead th {\n",
       "        text-align: right;\n",
       "    }\n",
       "</style>\n",
       "<table border=\"1\" class=\"dataframe\">\n",
       "  <thead>\n",
       "    <tr style=\"text-align: right;\">\n",
       "      <th></th>\n",
       "      <th>index</th>\n",
       "      <th>first_name</th>\n",
       "      <th>last_name</th>\n",
       "      <th>date_of_birth</th>\n",
       "      <th>company</th>\n",
       "      <th>email_address</th>\n",
       "      <th>address</th>\n",
       "      <th>country</th>\n",
       "      <th>country_code</th>\n",
       "      <th>phone_number</th>\n",
       "      <th>join_date</th>\n",
       "      <th>user_uuid</th>\n",
       "    </tr>\n",
       "  </thead>\n",
       "  <tbody>\n",
       "  </tbody>\n",
       "</table>\n",
       "</div>"
      ],
      "text/plain": [
       "Empty DataFrame\n",
       "Columns: [index, first_name, last_name, date_of_birth, company, email_address, address, country, country_code, phone_number, join_date, user_uuid]\n",
       "Index: []"
      ]
     },
     "metadata": {},
     "output_type": "display_data"
    },
    {
     "data": {
      "text/plain": [
       "'\\nList of invalid dates:'"
      ]
     },
     "metadata": {},
     "output_type": "display_data"
    },
    {
     "data": {
      "text/plain": [
       "[]"
      ]
     },
     "metadata": {},
     "output_type": "display_data"
    },
    {
     "name": "stdout",
     "output_type": "stream",
     "text": [
      "Number of rows after country cleaning: 15284\n"
     ]
    }
   ],
   "source": [
    "# STEP 6 clean date of birth \n",
    "\n",
    "num_rows = df.shape[0]\n",
    "print(f\"Number of rows before dob cleaning: {num_rows}\")\n",
    "\n",
    "\n",
    "# Initialize a list to store invalid dates\n",
    "invalid_dates_list = []\n",
    "\n",
    "# Function to parse dates and standardize format\n",
    "def parse_date(date_str):\n",
    "    try:\n",
    "        # Attempt to parse the date string to a datetime object\n",
    "        dt = parser.parse(date_str)\n",
    "        # Convert to the desired format (YYYY-MM-DD)\n",
    "        return dt.strftime('%Y-%m-%d')\n",
    "    except (parser.ParserError, ValueError):\n",
    "        # Append invalid date to the list\n",
    "        invalid_dates_list.append(date_str)\n",
    "        return np.nan  # Return NaN for invalid dates\n",
    "\n",
    "# Apply the function to the 'date_of_birth' column\n",
    "df['date_of_birth'] = df['date_of_birth'].apply(parse_date)\n",
    "\n",
    "# Identify rows that would be null after conversion\n",
    "invalid_rows = df[df['date_of_birth'].isna()]\n",
    "\n",
    "display(\"Rows that would be converted to NULL:\")\n",
    "display(invalid_rows)\n",
    "\n",
    "# Drop rows with NaN (invalid dates)\n",
    "df_cleaned = df.dropna(subset=['date_of_birth'])\n",
    "\n",
    "display(\"\\nList of invalid dates:\")\n",
    "display(invalid_dates_list)\n",
    "\n",
    "num_rows = df.shape[0]\n",
    "print(f\"Number of rows after country cleaning: {num_rows}\")\n"
   ]
  },
  {
   "cell_type": "code",
   "execution_count": 455,
   "metadata": {},
   "outputs": [
    {
     "name": "stdout",
     "output_type": "stream",
     "text": [
      "Number of rows before join date cleaning: 15284\n"
     ]
    },
    {
     "data": {
      "text/plain": [
       "'Rows that would be converted to NULL:'"
      ]
     },
     "metadata": {},
     "output_type": "display_data"
    },
    {
     "data": {
      "text/html": [
       "<div>\n",
       "<style scoped>\n",
       "    .dataframe tbody tr th:only-of-type {\n",
       "        vertical-align: middle;\n",
       "    }\n",
       "\n",
       "    .dataframe tbody tr th {\n",
       "        vertical-align: top;\n",
       "    }\n",
       "\n",
       "    .dataframe thead th {\n",
       "        text-align: right;\n",
       "    }\n",
       "</style>\n",
       "<table border=\"1\" class=\"dataframe\">\n",
       "  <thead>\n",
       "    <tr style=\"text-align: right;\">\n",
       "      <th></th>\n",
       "      <th>index</th>\n",
       "      <th>first_name</th>\n",
       "      <th>last_name</th>\n",
       "      <th>date_of_birth</th>\n",
       "      <th>company</th>\n",
       "      <th>email_address</th>\n",
       "      <th>address</th>\n",
       "      <th>country</th>\n",
       "      <th>country_code</th>\n",
       "      <th>phone_number</th>\n",
       "      <th>join_date</th>\n",
       "      <th>user_uuid</th>\n",
       "    </tr>\n",
       "  </thead>\n",
       "  <tbody>\n",
       "  </tbody>\n",
       "</table>\n",
       "</div>"
      ],
      "text/plain": [
       "Empty DataFrame\n",
       "Columns: [index, first_name, last_name, date_of_birth, company, email_address, address, country, country_code, phone_number, join_date, user_uuid]\n",
       "Index: []"
      ]
     },
     "metadata": {},
     "output_type": "display_data"
    },
    {
     "data": {
      "text/plain": [
       "'\\nList of invalid dates:'"
      ]
     },
     "metadata": {},
     "output_type": "display_data"
    },
    {
     "data": {
      "text/plain": [
       "[]"
      ]
     },
     "metadata": {},
     "output_type": "display_data"
    },
    {
     "name": "stdout",
     "output_type": "stream",
     "text": [
      "Number of rows after country cleaning: 15284\n"
     ]
    }
   ],
   "source": [
    "# STEP 7 clean join date \n",
    "\n",
    "num_rows = df.shape[0]\n",
    "print(f\"Number of rows before join date cleaning: {num_rows}\")\n",
    "\n",
    "\n",
    "# Initialize a list to store invalid dates\n",
    "invalid_join_dates_list = []\n",
    "\n",
    "# Apply the function to the 'date_of_birth' column\n",
    "df['join_date'] = df['join_date'].apply(parse_date)\n",
    "\n",
    "# Identify rows that would be null after conversion\n",
    "invalid_join_rows = df[df['join_date'].isna()]\n",
    "\n",
    "display(\"Rows that would be converted to NULL:\")\n",
    "display(invalid_join_rows)\n",
    "\n",
    "# Drop rows with NaN (invalid dates)\n",
    "df_cleaned = df.dropna(subset=['join_date'])\n",
    "\n",
    "display(\"\\nList of invalid dates:\")\n",
    "display(invalid_join_dates_list)\n",
    "\n",
    "num_rows = df.shape[0]\n",
    "print(f\"Number of rows after country cleaning: {num_rows}\")\n"
   ]
  },
  {
   "cell_type": "code",
   "execution_count": 456,
   "metadata": {},
   "outputs": [
    {
     "data": {
      "text/plain": [
       "index                                             697\n",
       "first_name                                      scott\n",
       "last_name                                       jones\n",
       "date_of_birth                              1971-10-23\n",
       "company                       Jordan, Brown and Evans\n",
       "email_address                         tom73@jones.net\n",
       "address            44 Irene plaza\\nNew Abbie\\nM4H 0NH\n",
       "country                                United Kingdom\n",
       "country_code                                       GB\n",
       "phone_number                            +449098790834\n",
       "join_date                                  2012-10-08\n",
       "user_uuid        9ac79783-f8e9-4639-b891-ce6b0d65028a\n",
       "Name: 697, dtype: object"
      ]
     },
     "metadata": {},
     "output_type": "display_data"
    },
    {
     "data": {
      "text/plain": [
       "index                                                      3079\n",
       "first_name                                                 june\n",
       "last_name                                             wilkinson\n",
       "date_of_birth                                        1970-04-19\n",
       "company                                             Dunn-Thomas\n",
       "email_address                                 zgraham@ahmed.com\n",
       "address          Studio 62M\\nAbigail forks\\nSamuelfurt\\nE3H 6US\n",
       "country                                          United Kingdom\n",
       "country_code                                                 GB\n",
       "phone_number                                      0117 496 0803\n",
       "join_date                                            2012-11-22\n",
       "user_uuid                  8e7878be-bd04-4ab8-add4-ba230ea3ab96\n",
       "Name: 3076, dtype: object"
      ]
     },
     "metadata": {},
     "output_type": "display_data"
    },
    {
     "data": {
      "text/plain": [
       "index                                                            1\n",
       "first_name                                                     guy\n",
       "last_name                                                    allen\n",
       "date_of_birth                                           1940-12-01\n",
       "company                                                    Fox Ltd\n",
       "email_address                         rhodesclifford@henderson.com\n",
       "address          Studio 22a\\nLynne terrace\\nMcCarthymouth\\nTF0 9GH\n",
       "country                                             United Kingdom\n",
       "country_code                                                    GB\n",
       "phone_number                                       (0161) 496 0674\n",
       "join_date                                               2001-12-20\n",
       "user_uuid                     8fe96c3a-d62d-4eb5-b313-cf12d9126a49\n",
       "Name: 1, dtype: object"
      ]
     },
     "metadata": {},
     "output_type": "display_data"
    },
    {
     "data": {
      "text/plain": [
       "index                                               2\n",
       "first_name                                      harry\n",
       "last_name                                    lawrence\n",
       "date_of_birth                              1995-08-02\n",
       "company                     Johnson, Jones and Harris\n",
       "email_address            glen98@bryant-marshall.co.uk\n",
       "address            92 Ann drive\\nJoanborough\\nSK0 6LR\n",
       "country                                United Kingdom\n",
       "country_code                                       GB\n",
       "phone_number                        +44(0)121 4960340\n",
       "join_date                                  2016-12-16\n",
       "user_uuid        fc461df4-b919-48b2-909e-55c95a03fe6b\n",
       "Name: 2, dtype: object"
      ]
     },
     "metadata": {},
     "output_type": "display_data"
    }
   ],
   "source": [
    "display(df.iloc[697]) \n",
    "\n",
    "display(df.iloc[3066]) \n",
    "\n",
    "display(df.iloc[1]) \n",
    "\n",
    "display(df.iloc[2]) "
   ]
  },
  {
   "cell_type": "markdown",
   "metadata": {},
   "source": [
    "IGNORE BELOW THIS LINE "
   ]
  },
  {
   "cell_type": "code",
   "execution_count": 457,
   "metadata": {},
   "outputs": [
    {
     "name": "stdout",
     "output_type": "stream",
     "text": [
      "Number of rows before date conversion: 15284\n"
     ]
    },
    {
     "data": {
      "text/html": [
       "<div>\n",
       "<style scoped>\n",
       "    .dataframe tbody tr th:only-of-type {\n",
       "        vertical-align: middle;\n",
       "    }\n",
       "\n",
       "    .dataframe tbody tr th {\n",
       "        vertical-align: top;\n",
       "    }\n",
       "\n",
       "    .dataframe thead th {\n",
       "        text-align: right;\n",
       "    }\n",
       "</style>\n",
       "<table border=\"1\" class=\"dataframe\">\n",
       "  <thead>\n",
       "    <tr style=\"text-align: right;\">\n",
       "      <th></th>\n",
       "      <th>index</th>\n",
       "      <th>first_name</th>\n",
       "      <th>last_name</th>\n",
       "      <th>date_of_birth</th>\n",
       "      <th>company</th>\n",
       "      <th>email_address</th>\n",
       "      <th>address</th>\n",
       "      <th>country</th>\n",
       "      <th>country_code</th>\n",
       "      <th>phone_number</th>\n",
       "      <th>join_date</th>\n",
       "      <th>user_uuid</th>\n",
       "    </tr>\n",
       "  </thead>\n",
       "  <tbody>\n",
       "  </tbody>\n",
       "</table>\n",
       "</div>"
      ],
      "text/plain": [
       "Empty DataFrame\n",
       "Columns: [index, first_name, last_name, date_of_birth, company, email_address, address, country, country_code, phone_number, join_date, user_uuid]\n",
       "Index: []"
      ]
     },
     "metadata": {},
     "output_type": "display_data"
    },
    {
     "data": {
      "text/html": [
       "<div>\n",
       "<style scoped>\n",
       "    .dataframe tbody tr th:only-of-type {\n",
       "        vertical-align: middle;\n",
       "    }\n",
       "\n",
       "    .dataframe tbody tr th {\n",
       "        vertical-align: top;\n",
       "    }\n",
       "\n",
       "    .dataframe thead th {\n",
       "        text-align: right;\n",
       "    }\n",
       "</style>\n",
       "<table border=\"1\" class=\"dataframe\">\n",
       "  <thead>\n",
       "    <tr style=\"text-align: right;\">\n",
       "      <th></th>\n",
       "      <th>index</th>\n",
       "      <th>first_name</th>\n",
       "      <th>last_name</th>\n",
       "      <th>date_of_birth</th>\n",
       "      <th>company</th>\n",
       "      <th>email_address</th>\n",
       "      <th>address</th>\n",
       "      <th>country</th>\n",
       "      <th>country_code</th>\n",
       "      <th>phone_number</th>\n",
       "      <th>join_date</th>\n",
       "      <th>user_uuid</th>\n",
       "    </tr>\n",
       "  </thead>\n",
       "  <tbody>\n",
       "  </tbody>\n",
       "</table>\n",
       "</div>"
      ],
      "text/plain": [
       "Empty DataFrame\n",
       "Columns: [index, first_name, last_name, date_of_birth, company, email_address, address, country, country_code, phone_number, join_date, user_uuid]\n",
       "Index: []"
      ]
     },
     "metadata": {},
     "output_type": "display_data"
    },
    {
     "name": "stdout",
     "output_type": "stream",
     "text": [
      "Number of rows after date conversion: 15284\n"
     ]
    }
   ],
   "source": [
    "num_rows = df.shape[0]\n",
    "print(f\"Number of rows before date conversion: {num_rows}\")\n",
    "\n",
    "\n",
    "# Define the regex pattern used in data casting\n",
    "regex_pattern = r'^\\d{4}-\\d{2}-\\d{2}$'\n",
    "\n",
    "date_rows_dropped = df[~df['date_of_birth'].str.match(regex_pattern)]\n",
    "\n",
    "display(date_rows_dropped)\n",
    "# Convert date_of_birth column to datetime (invalid parsing will be set to NaT)\n",
    "df['date_of_birth'] = pd.to_datetime(df['date_of_birth'], errors='coerce')\n",
    "\n",
    "# Identify rows that will be dropped\n",
    "invalid_rows = df.loc[df['date_of_birth'].isna()]\n",
    "\n",
    "#display(\"\\nRows that would be converted to null:\")\n",
    "display(invalid_rows)\n",
    "\n",
    "# Drop rows with NaT (coerced invalid dates)\n",
    "df = df.dropna(subset=['date_of_birth'])\n",
    "\n",
    "num_rows = df.shape[0]\n",
    "print(f\"Number of rows after date conversion: {num_rows}\")\n"
   ]
  },
  {
   "cell_type": "code",
   "execution_count": 458,
   "metadata": {},
   "outputs": [
    {
     "data": {
      "text/plain": [
       "<DatetimeArray>\n",
       "['1990-09-30 00:00:00', '1940-12-01 00:00:00', '1995-08-02 00:00:00',\n",
       " '1972-09-23 00:00:00', '1952-12-20 00:00:00', '1949-08-12 00:00:00',\n",
       " '1952-11-10 00:00:00', '2006-08-05 00:00:00', '1959-11-13 00:00:00',\n",
       " '1992-10-09 00:00:00',\n",
       " ...\n",
       " '1944-11-30 00:00:00', '2005-05-06 00:00:00', '1946-07-15 00:00:00',\n",
       " '1997-07-21 00:00:00', '1940-09-13 00:00:00', '1959-01-24 00:00:00',\n",
       " '1984-11-11 00:00:00', '1961-04-24 00:00:00', '1943-08-09 00:00:00',\n",
       " '1994-03-27 00:00:00']\n",
       "Length: 11334, dtype: datetime64[ns]"
      ]
     },
     "metadata": {},
     "output_type": "display_data"
    }
   ],
   "source": [
    "display(df['date_of_birth'].unique())"
   ]
  },
  {
   "cell_type": "code",
   "execution_count": 459,
   "metadata": {},
   "outputs": [
    {
     "ename": "NameError",
     "evalue": "name 'self' is not defined",
     "output_type": "error",
     "traceback": [
      "\u001b[0;31m---------------------------------------------------------------------------\u001b[0m",
      "\u001b[0;31mNameError\u001b[0m                                 Traceback (most recent call last)",
      "Cell \u001b[0;32mIn[459], line 3\u001b[0m\n\u001b[1;32m      1\u001b[0m \u001b[38;5;66;03m# cleaan join date \u001b[39;00m\n\u001b[0;32m----> 3\u001b[0m \u001b[38;5;28mself\u001b[39m\u001b[38;5;241m.\u001b[39mdf[\u001b[38;5;124m'\u001b[39m\u001b[38;5;124mjoin_date\u001b[39m\u001b[38;5;124m'\u001b[39m] \u001b[38;5;241m=\u001b[39m pd\u001b[38;5;241m.\u001b[39mto_datetime(\u001b[38;5;28;43mself\u001b[39;49m\u001b[38;5;241m.\u001b[39mdf[\u001b[38;5;124m'\u001b[39m\u001b[38;5;124mjoin_date\u001b[39m\u001b[38;5;124m'\u001b[39m], errors\u001b[38;5;241m=\u001b[39m\u001b[38;5;124m'\u001b[39m\u001b[38;5;124mcoerce\u001b[39m\u001b[38;5;124m'\u001b[39m, \u001b[38;5;28mformat\u001b[39m\u001b[38;5;241m=\u001b[39m\u001b[38;5;124m'\u001b[39m\u001b[38;5;124mmixed\u001b[39m\u001b[38;5;124m'\u001b[39m) \n\u001b[1;32m      5\u001b[0m         \u001b[38;5;66;03m# DEBUGGING: Check which dates could not be converted\u001b[39;00m\n\u001b[1;32m      6\u001b[0m         \u001b[38;5;66;03m#invalid_dates = self.df[self.df['join_date'].isna()]\u001b[39;00m\n\u001b[1;32m      7\u001b[0m         \n\u001b[0;32m   (...)\u001b[0m\n\u001b[1;32m     15\u001b[0m \n\u001b[1;32m     16\u001b[0m \u001b[38;5;66;03m# dropping rows with NaT values\u001b[39;00m\n\u001b[1;32m     17\u001b[0m \u001b[38;5;28mself\u001b[39m\u001b[38;5;241m.\u001b[39mdf \u001b[38;5;241m=\u001b[39m \u001b[38;5;28mself\u001b[39m\u001b[38;5;241m.\u001b[39mdf\u001b[38;5;241m.\u001b[39mdropna(subset\u001b[38;5;241m=\u001b[39m[\u001b[38;5;124m'\u001b[39m\u001b[38;5;124mjoin_date\u001b[39m\u001b[38;5;124m'\u001b[39m])\n",
      "\u001b[0;31mNameError\u001b[0m: name 'self' is not defined"
     ]
    }
   ],
   "source": [
    "# cleaan join date \n",
    "\n",
    "self.df['join_date'] = pd.to_datetime(self.df['join_date'], errors='coerce', format='mixed') \n",
    "\n",
    "        # DEBUGGING: Check which dates could not be converted\n",
    "        #invalid_dates = self.df[self.df['join_date'].isna()]\n",
    "        \n",
    "        # DEBUGGING: log the number of rows that couldn't be converted in case of errors \n",
    "        #print('number of rows that convert to NaT', len(invalid_dates)) \n",
    "\n",
    "        # DEBUGGING: Check the conversion worked by printing an example of a difficult date\n",
    "        #join_date_converted_example = self.df.iloc[202]['join_date']\n",
    "        #print('original join_date:\\n', original_join_date_example)\n",
    "        #print('join_date after pd.to_datetime:\\n', join_date_converted_example)\n",
    "\n",
    "# dropping rows with NaT values\n",
    "self.df = self.df.dropna(subset=['join_date'])"
   ]
  },
  {
   "cell_type": "code",
   "execution_count": null,
   "metadata": {},
   "outputs": [],
   "source": [
    "#join date \n",
    "self.df['join_date'] = pd.to_datetime(self.df['join_date'], errors='coerce', format='mixed') \n"
   ]
  }
 ],
 "metadata": {
  "kernelspec": {
   "display_name": "multinational_env",
   "language": "python",
   "name": "python3"
  },
  "language_info": {
   "codemirror_mode": {
    "name": "ipython",
    "version": 3
   },
   "file_extension": ".py",
   "mimetype": "text/x-python",
   "name": "python",
   "nbconvert_exporter": "python",
   "pygments_lexer": "ipython3",
   "version": "3.12.3"
  }
 },
 "nbformat": 4,
 "nbformat_minor": 2
}
