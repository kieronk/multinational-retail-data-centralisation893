{
 "cells": [
  {
   "cell_type": "code",
   "execution_count": 8,
   "metadata": {},
   "outputs": [],
   "source": [
    "from database_utils import DatabaseConnector\n",
    "from data_extraction import DataExtractor\n",
    "from urllib.parse import urlparse\n",
    "import boto3\n",
    "import pandas as pd\n",
    "from io import StringIO\n",
    "from io import BytesIO\n",
    "import re "
   ]
  },
  {
   "cell_type": "code",
   "execution_count": 9,
   "metadata": {},
   "outputs": [],
   "source": [
    "def extract_from_s3(uri):\n",
    "    print('started extract from self')\n",
    "    \n",
    "    parsed_url = urlparse(uri)\n",
    "    \n",
    "    if parsed_url.scheme == 'https':\n",
    "        bucket = parsed_url.netloc.split('.')[0]\n",
    "        key = parsed_url.path.lstrip('/')\n",
    "    elif parsed_url.scheme == 's3':\n",
    "        bucket = parsed_url.netloc\n",
    "        key = parsed_url.path.lstrip('/')\n",
    "    else:\n",
    "        raise ValueError(f\"Invalid URI scheme: {parsed_url.scheme}\")\n",
    "    \n",
    "    s3 = boto3.client('s3')\n",
    "    \n",
    "    # Check the file extension to determine the format\n",
    "    file_extension = key.split('.')[-1].lower()\n",
    "    \n",
    "    with BytesIO() as buffer:\n",
    "        s3.download_fileobj(bucket, key, buffer)\n",
    "        buffer.seek(0)\n",
    "        \n",
    "        if file_extension == 'csv':\n",
    "            df = pd.read_csv(buffer)\n",
    "        elif file_extension == 'json':\n",
    "            df = pd.read_json(buffer)\n",
    "        else:\n",
    "            raise ValueError(f\"Unsupported file extension: {file_extension}\")\n",
    "    \n",
    "    print('ran extract_from_self')\n",
    "    return df"
   ]
  },
  {
   "cell_type": "code",
   "execution_count": 10,
   "metadata": {},
   "outputs": [
    {
     "name": "stdout",
     "output_type": "stream",
     "text": [
      "started extract from self\n",
      "ran extract_from_self\n"
     ]
    },
    {
     "data": {
      "text/html": [
       "<div>\n",
       "<style scoped>\n",
       "    .dataframe tbody tr th:only-of-type {\n",
       "        vertical-align: middle;\n",
       "    }\n",
       "\n",
       "    .dataframe tbody tr th {\n",
       "        vertical-align: top;\n",
       "    }\n",
       "\n",
       "    .dataframe thead th {\n",
       "        text-align: right;\n",
       "    }\n",
       "</style>\n",
       "<table border=\"1\" class=\"dataframe\">\n",
       "  <thead>\n",
       "    <tr style=\"text-align: right;\">\n",
       "      <th></th>\n",
       "      <th>timestamp</th>\n",
       "      <th>month</th>\n",
       "      <th>year</th>\n",
       "      <th>day</th>\n",
       "      <th>time_period</th>\n",
       "      <th>date_uuid</th>\n",
       "    </tr>\n",
       "  </thead>\n",
       "  <tbody>\n",
       "    <tr>\n",
       "      <th>0</th>\n",
       "      <td>22:00:06</td>\n",
       "      <td>9</td>\n",
       "      <td>2012</td>\n",
       "      <td>19</td>\n",
       "      <td>Evening</td>\n",
       "      <td>3b7ca996-37f9-433f-b6d0-ce8391b615ad</td>\n",
       "    </tr>\n",
       "    <tr>\n",
       "      <th>1</th>\n",
       "      <td>22:44:06</td>\n",
       "      <td>2</td>\n",
       "      <td>1997</td>\n",
       "      <td>10</td>\n",
       "      <td>Evening</td>\n",
       "      <td>adc86836-6c35-49ca-bb0d-65b6507a00fa</td>\n",
       "    </tr>\n",
       "    <tr>\n",
       "      <th>2</th>\n",
       "      <td>10:05:37</td>\n",
       "      <td>4</td>\n",
       "      <td>1994</td>\n",
       "      <td>15</td>\n",
       "      <td>Morning</td>\n",
       "      <td>5ff791bf-d8e0-4f86-8ceb-c7b60bef9b31</td>\n",
       "    </tr>\n",
       "    <tr>\n",
       "      <th>3</th>\n",
       "      <td>17:29:27</td>\n",
       "      <td>11</td>\n",
       "      <td>2001</td>\n",
       "      <td>6</td>\n",
       "      <td>Midday</td>\n",
       "      <td>1b01fcef-5ab9-404c-b0d4-1e75a0bd19d8</td>\n",
       "    </tr>\n",
       "    <tr>\n",
       "      <th>4</th>\n",
       "      <td>22:40:33</td>\n",
       "      <td>12</td>\n",
       "      <td>2015</td>\n",
       "      <td>31</td>\n",
       "      <td>Evening</td>\n",
       "      <td>dfa907c1-f6c5-40f0-aa0d-40ed77ac5a44</td>\n",
       "    </tr>\n",
       "    <tr>\n",
       "      <th>...</th>\n",
       "      <td>...</td>\n",
       "      <td>...</td>\n",
       "      <td>...</td>\n",
       "      <td>...</td>\n",
       "      <td>...</td>\n",
       "      <td>...</td>\n",
       "    </tr>\n",
       "    <tr>\n",
       "      <th>120156</th>\n",
       "      <td>22:56:56</td>\n",
       "      <td>11</td>\n",
       "      <td>2022</td>\n",
       "      <td>12</td>\n",
       "      <td>Evening</td>\n",
       "      <td>d6c4fb31-720d-4e94-aa6b-dcbcb85f2bb7</td>\n",
       "    </tr>\n",
       "    <tr>\n",
       "      <th>120157</th>\n",
       "      <td>18:25:20</td>\n",
       "      <td>5</td>\n",
       "      <td>1997</td>\n",
       "      <td>31</td>\n",
       "      <td>Evening</td>\n",
       "      <td>f7722027-1aae-49c3-8f8d-853e93f9f3e6</td>\n",
       "    </tr>\n",
       "    <tr>\n",
       "      <th>120158</th>\n",
       "      <td>18:21:40</td>\n",
       "      <td>9</td>\n",
       "      <td>2011</td>\n",
       "      <td>13</td>\n",
       "      <td>Evening</td>\n",
       "      <td>4a3b9851-52e1-463c-ac81-1960f141444e</td>\n",
       "    </tr>\n",
       "    <tr>\n",
       "      <th>120159</th>\n",
       "      <td>19:10:53</td>\n",
       "      <td>7</td>\n",
       "      <td>2013</td>\n",
       "      <td>12</td>\n",
       "      <td>Evening</td>\n",
       "      <td>64974909-0d4b-42a2-822a-73b5695e8bfb</td>\n",
       "    </tr>\n",
       "    <tr>\n",
       "      <th>120160</th>\n",
       "      <td>21:17:12</td>\n",
       "      <td>3</td>\n",
       "      <td>2008</td>\n",
       "      <td>18</td>\n",
       "      <td>Evening</td>\n",
       "      <td>55c228c7-14ee-4d46-99a9-01dfc57d1adf</td>\n",
       "    </tr>\n",
       "  </tbody>\n",
       "</table>\n",
       "<p>120161 rows × 6 columns</p>\n",
       "</div>"
      ],
      "text/plain": [
       "       timestamp month  year day time_period  \\\n",
       "0       22:00:06     9  2012  19     Evening   \n",
       "1       22:44:06     2  1997  10     Evening   \n",
       "2       10:05:37     4  1994  15     Morning   \n",
       "3       17:29:27    11  2001   6      Midday   \n",
       "4       22:40:33    12  2015  31     Evening   \n",
       "...          ...   ...   ...  ..         ...   \n",
       "120156  22:56:56    11  2022  12     Evening   \n",
       "120157  18:25:20     5  1997  31     Evening   \n",
       "120158  18:21:40     9  2011  13     Evening   \n",
       "120159  19:10:53     7  2013  12     Evening   \n",
       "120160  21:17:12     3  2008  18     Evening   \n",
       "\n",
       "                                   date_uuid  \n",
       "0       3b7ca996-37f9-433f-b6d0-ce8391b615ad  \n",
       "1       adc86836-6c35-49ca-bb0d-65b6507a00fa  \n",
       "2       5ff791bf-d8e0-4f86-8ceb-c7b60bef9b31  \n",
       "3       1b01fcef-5ab9-404c-b0d4-1e75a0bd19d8  \n",
       "4       dfa907c1-f6c5-40f0-aa0d-40ed77ac5a44  \n",
       "...                                      ...  \n",
       "120156  d6c4fb31-720d-4e94-aa6b-dcbcb85f2bb7  \n",
       "120157  f7722027-1aae-49c3-8f8d-853e93f9f3e6  \n",
       "120158  4a3b9851-52e1-463c-ac81-1960f141444e  \n",
       "120159  64974909-0d4b-42a2-822a-73b5695e8bfb  \n",
       "120160  55c228c7-14ee-4d46-99a9-01dfc57d1adf  \n",
       "\n",
       "[120161 rows x 6 columns]"
      ]
     },
     "metadata": {},
     "output_type": "display_data"
    }
   ],
   "source": [
    "df = extract_from_s3('https://data-handling-public.s3.eu-west-1.amazonaws.com/date_details.json')\n",
    "display(df)"
   ]
  },
  {
   "cell_type": "code",
   "execution_count": 11,
   "metadata": {},
   "outputs": [
    {
     "name": "stdout",
     "output_type": "stream",
     "text": [
      "Number of rows date times before year cleaning: 120161\n"
     ]
    }
   ],
   "source": [
    "num_rows = df.shape[0]\n",
    "print(f\"Number of rows date times before year cleaning: {num_rows}\")\n",
    "\n"
   ]
  },
  {
   "cell_type": "code",
   "execution_count": 12,
   "metadata": {},
   "outputs": [
    {
     "name": "stdout",
     "output_type": "stream",
     "text": [
      "['2012' '1997' '1994' '2001' '2015' '2002' '1993' '2006' '2004' '2008'\n",
      " '2021' '2018' '2009' '2020' '2017' '2019' '2000' '2007' '2013' '2010'\n",
      " '1995' '2005' '1999' '2003' '1996' '2014' '2022' '2016' '1998' '2011'\n",
      " '1992' 'FTKRTQHFZE' '14NRQ80L5E' 'NULL' '33F45BZPSP' 'G3DEZY8UW6'\n",
      " '0M8BGI0CI3' 'O17F6WE1TD' '9DKC6PW41E' 'I5367BRUVN' 'EB2N507OZ0'\n",
      " 'KO7BGRPOKH' 'RA8D4CIQOV' 'FXC3K5LZZX' 'FIEOPTN7WZ' 'AQLUVY7DA2'\n",
      " '9QDY0WMH6K' '5RZL03AWR6' 'QF6S8TDTEA' 'L1N4X0SVZA' 'OVDJZCARJA'\n",
      " 'UDHIYJS2GP' 'LND1WX0Y6Z' '3GJWN253MM' 'M9ZV3N8G95']\n",
      "['9' '2' '4' '11' '12' '8' '1' '3' '7' '10' '5' '6' '1YMRDJNU2T'\n",
      " '9GN4VIO5A8' 'NULL' 'NF46JOZMTA' 'LZLLPZ0ZUA' 'YULO5U0ZAM' 'SAT4V9O2DL'\n",
      " '3ZZ5UCZR5D' 'DGQAH7M1HQ' '4FHLELF101' '22JSMNGJCU' 'EB8VJHYZLE'\n",
      " '2VZEREEIKB' 'K9ZN06ZS1X' '9P3C0WBWTU' 'W6FT760O2B' 'DOIR43VTCM'\n",
      " 'FA8KD82QH3' '03T414PVFI' 'FNPZFYI489' '67RMH5U2R6' 'J9VQLERJQO'\n",
      " 'ZRH2YT3FR8' 'GYSATSCN88']\n",
      "['19' '10' '15' '6' '31' '2' '14' '1' '21' '3' '16' '25' '17' '12' '23'\n",
      " '26' '24' '18' '4' '11' '22' '7' '30' '8' '13' '27' '20' '29' '9' '28'\n",
      " '5' '7EPFWYOELT' 'K4702YOYPT' 'NULL' 'ZS0PDDW72O' 'TTH9JE93YZ'\n",
      " 'CZ35WI1011' 'PYXMXY268K' 'XAOROIDDK6' 'DEQME0YBTK' 'DK93ZX02KL'\n",
      " '8XA0GSY2Z6' 'Y1D3T5NOZ8' '1OFIGIX6Q9' '41OFB3C3PD' '814572Q64C'\n",
      " 'WRBNFJ46LJ' 'PKTU8OYDWF' 'G3Z42NGBRE' 'XZJTZGW546' '83QG97URRC'\n",
      " '8GZBM34AGM' 'W5A22P7J9N' 'K179M0CI4M' 'WRTW643A1S']\n",
      "['Evening' 'Morning' 'Midday' 'Late_Hours' 'DXBU6GX1VC' 'OEOXBP8X6D'\n",
      " 'NULL' '1Z18F4RM05' 'GT3JKF575H' 'CM5MTJKXMH' '5OQGE7K2AV' '1JCRGU3GIE'\n",
      " 'SQX52VSNMM' 'ALOGCWS9Y3' '7DNU2UWFP7' 'EOHYT5T70F' '5MUU1NKRED'\n",
      " '7RR8SRXQAW' 'SSF9ANE440' '1PZDMCME1C' 'KQVJ34AINL' 'QA65EOIBX4'\n",
      " 'YRYN6Y8SPJ' 'JMW951JPZC' 'DZC37NLW4F' 'SYID3PBQLP' 'IXNB2XXEKB'\n",
      " 'MZIS9E7IXD']\n"
     ]
    }
   ],
   "source": [
    "print(df['year'].unique()) \n",
    "print(df['month'].unique()) \n",
    "print(df['day'].unique()) \n",
    "print(df['time_period'].unique()) "
   ]
  },
  {
   "cell_type": "code",
   "execution_count": 13,
   "metadata": {},
   "outputs": [],
   "source": [
    "# filtering out items in locality that aren't real place names or NULL \n",
    "year_regex = r'^\\d{4}$'\n",
    "df = df[df['year'].str.match(year_regex)]\n"
   ]
  },
  {
   "cell_type": "code",
   "execution_count": 14,
   "metadata": {},
   "outputs": [
    {
     "name": "stdout",
     "output_type": "stream",
     "text": [
      "Number of rows date times after year cleaning: 120123\n"
     ]
    }
   ],
   "source": [
    "num_rows = df.shape[0]\n",
    "print(f\"Number of rows date times after year cleaning: {num_rows}\")\n",
    "\n"
   ]
  },
  {
   "cell_type": "code",
   "execution_count": 15,
   "metadata": {},
   "outputs": [
    {
     "name": "stdout",
     "output_type": "stream",
     "text": [
      "['2012' '1997' '1994' '2001' '2015' '2002' '1993' '2006' '2004' '2008'\n",
      " '2021' '2018' '2009' '2020' '2017' '2019' '2000' '2007' '2013' '2010'\n",
      " '1995' '2005' '1999' '2003' '1996' '2014' '2022' '2016' '1998' '2011'\n",
      " '1992']\n",
      "['9' '2' '4' '11' '12' '8' '1' '3' '7' '10' '5' '6']\n",
      "['19' '10' '15' '6' '31' '2' '14' '1' '21' '3' '16' '25' '17' '12' '23'\n",
      " '26' '24' '18' '4' '11' '22' '7' '30' '8' '13' '27' '20' '29' '9' '28'\n",
      " '5']\n",
      "['Evening' 'Morning' 'Midday' 'Late_Hours']\n"
     ]
    }
   ],
   "source": [
    "print(df['year'].unique()) \n",
    "print(df['month'].unique()) \n",
    "print(df['day'].unique()) \n",
    "print(df['time_period'].unique()) "
   ]
  },
  {
   "cell_type": "code",
   "execution_count": 17,
   "metadata": {},
   "outputs": [],
   "source": [
    "df['complete_timestamp'] = pd.to_datetime(df['year'] + '-' + df['month'] + '-' + df['day'] + ' ' + df['timestamp'], format='%Y-%m-%d %H:%M:%S')\n"
   ]
  },
  {
   "cell_type": "code",
   "execution_count": 19,
   "metadata": {},
   "outputs": [
    {
     "name": "stdout",
     "output_type": "stream",
     "text": [
      "Number of rows date times after adding 'complete_timestamp' coversion: 120123\n"
     ]
    }
   ],
   "source": [
    "num_rows = df.shape[0]\n",
    "print(f\"Number of rows date times after adding 'complete_timestamp' coversion: {num_rows}\")\n",
    "\n"
   ]
  },
  {
   "cell_type": "code",
   "execution_count": 22,
   "metadata": {},
   "outputs": [
    {
     "name": "stdout",
     "output_type": "stream",
     "text": [
      "Total rows: 120123\n",
      "Number of missing/invalid dates: 0\n"
     ]
    }
   ],
   "source": [
    "missing_count = df['complete_timestamp'].isnull().sum()\n",
    "total_rows = df.shape[0]\n",
    "\n",
    "print(f\"Total rows: {total_rows}\")\n",
    "print(f\"Number of missing/invalid dates: {missing_count}\")"
   ]
  },
  {
   "cell_type": "code",
   "execution_count": 23,
   "metadata": {},
   "outputs": [
    {
     "name": "stdout",
     "output_type": "stream",
     "text": [
      "Number of 'NaT' values: 0\n",
      "Empty DataFrame\n",
      "Columns: [timestamp, month, year, day, time_period, date_uuid, complete_timestamp]\n",
      "Index: []\n",
      "Number of missing values: 0\n",
      "Empty DataFrame\n",
      "Columns: [timestamp, month, year, day, time_period, date_uuid, complete_timestamp]\n",
      "Index: []\n"
     ]
    }
   ],
   "source": [
    "# Check for any 'NaT' (Not a Time) values\n",
    "nat_values = df['complete_timestamp'].isna()\n",
    "missing_values = df['complete_timestamp'].isnull()\n",
    "\n",
    "# Display rows with 'NaT' values\n",
    "df_nat = df[nat_values]\n",
    "df_missing = df[missing_values]\n",
    "\n",
    "\n",
    "print(\"Number of 'NaT' values:\", df_nat.shape[0])\n",
    "print(df_nat)\n",
    "\n",
    "print(\"Number of missing values:\", df_missing.shape[0])\n",
    "print(df_missing)\n"
   ]
  }
 ],
 "metadata": {
  "kernelspec": {
   "display_name": "multinational_env",
   "language": "python",
   "name": "python3"
  },
  "language_info": {
   "codemirror_mode": {
    "name": "ipython",
    "version": 3
   },
   "file_extension": ".py",
   "mimetype": "text/x-python",
   "name": "python",
   "nbconvert_exporter": "python",
   "pygments_lexer": "ipython3",
   "version": "3.12.3"
  }
 },
 "nbformat": 4,
 "nbformat_minor": 2
}
