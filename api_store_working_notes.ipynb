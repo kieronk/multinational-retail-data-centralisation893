{
 "cells": [
  {
   "cell_type": "code",
   "execution_count": null,
   "metadata": {},
   "outputs": [],
   "source": []
  },
  {
   "cell_type": "code",
   "execution_count": 41,
   "metadata": {},
   "outputs": [
    {
     "data": {
      "text/plain": [
       "\"\\n\\nimport requests \\n\\ndef list_number_of_stores(store_endpoint, header):\\n        \\n        store_endpoint = 'https://aqj7u5id95.execute-api.eu-west-1.amazonaws.com/prod/number_stores'\\n        header = {\\n            'x-api-key': 'yFBQbwXe9J3sd6zWVAMrK6lcxxr0q1lr2PT6DDMX'\\n        } \\n        response = requests.get(store_endpoint, headers=header)\\n        print(response.json())\\n        return response.json()\\n\\nlist_number_of_stores(store_endpoint, header)\\n\""
      ]
     },
     "execution_count": 41,
     "metadata": {},
     "output_type": "execute_result"
    }
   ],
   "source": [
    "\"\"\"\n",
    "\n",
    "import requests \n",
    "\n",
    "def list_number_of_stores(store_endpoint, header):\n",
    "        \n",
    "        store_endpoint = 'https://aqj7u5id95.execute-api.eu-west-1.amazonaws.com/prod/number_stores'\n",
    "        header = {\n",
    "            'x-api-key': 'yFBQbwXe9J3sd6zWVAMrK6lcxxr0q1lr2PT6DDMX'\n",
    "        } \n",
    "        response = requests.get(store_endpoint, headers=header)\n",
    "        print(response.json())\n",
    "        return response.json()\n",
    "\n",
    "list_number_of_stores(store_endpoint, header)\n",
    "\"\"\""
   ]
  },
  {
   "cell_type": "code",
   "execution_count": 42,
   "metadata": {},
   "outputs": [
    {
     "ename": "TypeError",
     "evalue": "api.list_number_of_stores() missing 2 required positional arguments: 'no_stores_endpoint' and 'header'",
     "output_type": "error",
     "traceback": [
      "\u001b[0;31m---------------------------------------------------------------------------\u001b[0m",
      "\u001b[0;31mTypeError\u001b[0m                                 Traceback (most recent call last)",
      "Cell \u001b[0;32mIn[42], line 32\u001b[0m\n\u001b[1;32m     29\u001b[0m             \u001b[38;5;28;01mreturn\u001b[39;00m store_data\n\u001b[1;32m     31\u001b[0m instance \u001b[38;5;241m=\u001b[39m api()\n\u001b[0;32m---> 32\u001b[0m \u001b[43minstance\u001b[49m\u001b[38;5;241;43m.\u001b[39;49m\u001b[43mretrieve_stores_data\u001b[49m\u001b[43m(\u001b[49m\u001b[43m)\u001b[49m \n",
      "Cell \u001b[0;32mIn[42], line 22\u001b[0m, in \u001b[0;36mapi.retrieve_stores_data\u001b[0;34m(self)\u001b[0m\n\u001b[1;32m     21\u001b[0m \u001b[38;5;28;01mdef\u001b[39;00m \u001b[38;5;21mretrieve_stores_data\u001b[39m(\u001b[38;5;28mself\u001b[39m):\n\u001b[0;32m---> 22\u001b[0m     store_number_response \u001b[38;5;241m=\u001b[39m \u001b[38;5;28;43mself\u001b[39;49m\u001b[38;5;241;43m.\u001b[39;49m\u001b[43mlist_number_of_stores\u001b[49m\u001b[43m(\u001b[49m\u001b[43m)\u001b[49m\n\u001b[1;32m     23\u001b[0m     store_number \u001b[38;5;241m=\u001b[39m store_number_response\u001b[38;5;241m.\u001b[39mget(\u001b[38;5;124m'\u001b[39m\u001b[38;5;124mnumber_stores\u001b[39m\u001b[38;5;124m'\u001b[39m)\n\u001b[1;32m     24\u001b[0m     \u001b[38;5;28mprint\u001b[39m(store_number)\n",
      "\u001b[0;31mTypeError\u001b[0m: api.list_number_of_stores() missing 2 required positional arguments: 'no_stores_endpoint' and 'header'"
     ]
    }
   ],
   "source": [
    "import requests \n",
    "\n",
    "class api: \n",
    "        \n",
    "    def list_number_of_stores(self, no_stores_endpoint, header):\n",
    "            \n",
    "            no_stores_endpoint = 'https://aqj7u5id95.execute-api.eu-west-1.amazonaws.com/prod/number_stores'\n",
    "            header = {\n",
    "                'x-api-key': 'yFBQbwXe9J3sd6zWVAMrK6lcxxr0q1lr2PT6DDMX'\n",
    "            } \n",
    "            try: \n",
    "                with requests.get(no_stores_endpoint, headers=header) as response: \n",
    "                    response.raise_for_status()  # Raise an HTTPError for bad responses (4xx and 5xx)\n",
    "                    print(response.json())\n",
    "                    return response.json()\n",
    "            \n",
    "            except requests.exceptions.RequestException as e:\n",
    "                print(f'An error occurred: {e}')\n",
    "                return None\n",
    "\n",
    "    def retrieve_stores_data(self):\n",
    "        store_number_response = self.list_number_of_stores(no_stores_endpoint, header)\n",
    "        store_number = store_number_response.get('number_stores')\n",
    "        print(store_number)\n",
    "        store_info_endpoint = 'https://aqj7u5id95.execute-api.eu-west-1.amazonaws.com/prod/store_details/' + store_number\n",
    "        with requests.get(store_info_endpoint) as response:\n",
    "            data = response.json()\n",
    "            store_data = pd.DataFrame(data) \n",
    "            return store_data\n",
    "\n",
    "instance = api()\n",
    "instance.retrieve_stores_data() \n"
   ]
  },
  {
   "cell_type": "code",
   "execution_count": null,
   "metadata": {},
   "outputs": [
    {
     "ename": "NameError",
     "evalue": "name 'self' is not defined",
     "output_type": "error",
     "traceback": [
      "\u001b[0;31m---------------------------------------------------------------------------\u001b[0m",
      "\u001b[0;31mNameError\u001b[0m                                 Traceback (most recent call last)",
      "Cell \u001b[0;32mIn[37], line 11\u001b[0m\n\u001b[1;32m      8\u001b[0m         store_data \u001b[38;5;241m=\u001b[39m pd\u001b[38;5;241m.\u001b[39mDataFrame(data) \n\u001b[1;32m      9\u001b[0m         \u001b[38;5;28;01mreturn\u001b[39;00m store_data\n\u001b[0;32m---> 11\u001b[0m retrieve_stores_data(\u001b[38;5;28;43mself\u001b[39;49m)\n",
      "\u001b[0;31mNameError\u001b[0m: name 'self' is not defined"
     ]
    }
   ],
   "source": []
  }
 ],
 "metadata": {
  "kernelspec": {
   "display_name": "multinational_env",
   "language": "python",
   "name": "python3"
  },
  "language_info": {
   "codemirror_mode": {
    "name": "ipython",
    "version": 3
   },
   "file_extension": ".py",
   "mimetype": "text/x-python",
   "name": "python",
   "nbconvert_exporter": "python",
   "pygments_lexer": "ipython3",
   "version": "3.12.3"
  }
 },
 "nbformat": 4,
 "nbformat_minor": 2
}
