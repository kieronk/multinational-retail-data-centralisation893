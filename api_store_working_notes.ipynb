{
 "cells": [
  {
   "cell_type": "code",
   "execution_count": 67,
   "metadata": {},
   "outputs": [
    {
     "data": {
      "text/plain": [
       "\"\\n\\nimport requests \\n\\ndef list_number_of_stores(store_endpoint, header):\\n        \\n        store_endpoint = 'https://aqj7u5id95.execute-api.eu-west-1.amazonaws.com/prod/number_stores'\\n        header = {\\n            'x-api-key': 'yFBQbwXe9J3sd6zWVAMrK6lcxxr0q1lr2PT6DDMX'\\n        } \\n        response = requests.get(store_endpoint, headers=header)\\n        print(response.json())\\n        return response.json()\\n\\nlist_number_of_stores(store_endpoint, header)\\n\""
      ]
     },
     "execution_count": 67,
     "metadata": {},
     "output_type": "execute_result"
    }
   ],
   "source": [
    "\"\"\"\n",
    "\n",
    "import requests \n",
    "\n",
    "def list_number_of_stores(store_endpoint, header):\n",
    "        \n",
    "        store_endpoint = 'https://aqj7u5id95.execute-api.eu-west-1.amazonaws.com/prod/number_stores'\n",
    "        header = {\n",
    "            'x-api-key': 'yFBQbwXe9J3sd6zWVAMrK6lcxxr0q1lr2PT6DDMX'\n",
    "        } \n",
    "        response = requests.get(store_endpoint, headers=header)\n",
    "        print(response.json())\n",
    "        return response.json()\n",
    "\n",
    "list_number_of_stores(store_endpoint, header)\n",
    "\"\"\""
   ]
  },
  {
   "cell_type": "code",
   "execution_count": 81,
   "metadata": {},
   "outputs": [
    {
     "name": "stdout",
     "output_type": "stream",
     "text": [
      "[{'index': 1, 'address': 'Flat 72W\\nSally isle\\nEast Deantown\\nE7B 8EB, High Wycombe', 'longitude': '51.62907', 'lat': None, 'locality': 'High Wycombe', 'store_code': 'HI-9B97EE4E', 'staff_numbers': '34', 'opening_date': '1996-10-25', 'store_type': 'Local', 'latitude': '-0.74934', 'country_code': 'GB', 'continent': 'Europe'}, {'index': 2, 'address': 'Heckerstraße 4/5\\n50491 Säckingen, Landshut', 'longitude': '48.52961', 'lat': None, 'locality': 'Landshut', 'store_code': 'LA-0772C7B9', 'staff_numbers': '92', 'opening_date': '2013-04-12', 'store_type': 'Super Store', 'latitude': '12.16179', 'country_code': 'DE', 'continent': 'Europe'}, {'index': 3, 'address': '5 Harrison tunnel\\nSouth Lydia\\nWC9 2BE, Westbury', 'longitude': '51.26', 'lat': None, 'locality': 'Westbury', 'store_code': 'WE-1DE82CEE', 'staff_numbers': '69', 'opening_date': '2014-01-02', 'store_type': 'Super Store', 'latitude': '-2.1875', 'country_code': 'GB', 'continent': 'Europe'}, {'index': 4, 'address': 'Studio 6\\nStephen landing\\nSouth Simon\\nB77 2WA, Belper', 'longitude': '53.0233', 'lat': None, 'locality': 'Belper', 'store_code': 'BE-18074576', 'staff_numbers': '35', 'opening_date': '2019-09-09', 'store_type': 'Local', 'latitude': '-1.48119', 'country_code': 'GB', 'continent': 'Europe'}, {'index': 5, 'address': 'Flat 92u\\nChristian harbors\\nPort Charlotte\\nN57 8FJ, Gainsborough', 'longitude': '53.38333', 'lat': None, 'locality': 'Gainsborough', 'store_code': 'GA-CAD01AC2', 'staff_numbers': '36', 'opening_date': '1995-05-15', 'store_type': 'Local', 'latitude': '-0.76667', 'country_code': 'GB', 'continent': 'Europe'}, {'index': 6, 'address': '7 Gillian rue\\nWest Robertside\\nPH4 8NY, Rutherglen', 'longitude': '55.82885', 'lat': None, 'locality': 'Rutherglen', 'store_code': 'RU-C603E990', 'staff_numbers': '92', 'opening_date': '2001-01-04', 'store_type': 'Super Store', 'latitude': '-4.21376', 'country_code': 'GB', 'continent': 'Europe'}, {'index': 7, 'address': 'Lilija-Heß-Allee 660\\n34566 Regensburg, Stuttgart', 'longitude': '48.78232', 'lat': None, 'locality': 'Stuttgart', 'store_code': 'ST-229D997E', 'staff_numbers': '34', 'opening_date': '2000-06-01', 'store_type': 'Local', 'latitude': '9.17702', 'country_code': 'DE', 'continent': 'Europe'}, {'index': 8, 'address': '510 Jill Mill\\nSouth Laura, FL 38723, Kaukauna', 'longitude': '44.27804', 'lat': None, 'locality': 'Kaukauna', 'store_code': 'KA-FA7ED3B8', 'staff_numbers': '31', 'opening_date': '2022-09-05', 'store_type': 'Local', 'latitude': '-88.27205', 'country_code': 'US', 'continent': 'America'}, {'index': 9, 'address': '3 Lee valleys\\nWest Janetview\\nDY4M 2RL, Hartley', 'longitude': '51.38673', 'lat': None, 'locality': 'Hartley', 'store_code': 'HA-974352FE', 'staff_numbers': '20', 'opening_date': '2004-09-11', 'store_type': 'Local', 'latitude': '0.30367', 'country_code': 'GB', 'continent': 'Europe'}]\n"
     ]
    }
   ],
   "source": [
    "import requests \n",
    "import pandas as pd \n",
    "\n",
    "class api: \n",
    "        \n",
    "    def __init__(self): \n",
    "         pass \n",
    "    \n",
    "    def list_number_of_stores(self, no_stores_endpoint, header):\n",
    "            \n",
    "        no_stores_endpoint = 'https://aqj7u5id95.execute-api.eu-west-1.amazonaws.com/prod/number_stores'\n",
    "        header = {\n",
    "            'x-api-key': 'yFBQbwXe9J3sd6zWVAMrK6lcxxr0q1lr2PT6DDMX'\n",
    "        } \n",
    "        try: \n",
    "            with requests.get(no_stores_endpoint, headers=header) as response: \n",
    "                response.raise_for_status()  # Raise an HTTPError for bad responses (4xx and 5xx)\n",
    "                print(response.json())\n",
    "                return response.json()\n",
    "        \n",
    "        except requests.exceptions.RequestException as e:\n",
    "            print(f'An error occurred: {e}')\n",
    "            return None\n",
    "\n",
    "    def retrieve_stores_data(self):   \n",
    "        all_data = []\n",
    "        for i in range (1, 10): \n",
    "            #print('started')\n",
    "            store_suffix = str(i) \n",
    "            store_info_endpoint = 'https://aqj7u5id95.execute-api.eu-west-1.amazonaws.com/prod/store_details/' + store_suffix\n",
    "            header = {'x-api-key': 'yFBQbwXe9J3sd6zWVAMrK6lcxxr0q1lr2PT6DDMX'} \n",
    "            #print(store_suffix)\n",
    "            #print(store_info_endpoint)\n",
    "            try: \n",
    "                with requests.get(store_info_endpoint, headers=header) as response:\n",
    "                    data = response.json()\n",
    "                    #print(data)\n",
    "                    all_data.append(response.json())\n",
    "            except requests.exceptions.RequestException as e:\n",
    "                print(f'An error occurred: {e}')\n",
    "                return None\n",
    "        print(all_data)\n",
    "no_stores_endpoint = 'https://aqj7u5id95.execute-api.eu-west-1.amazonaws.com/prod/number_stores'\n",
    "\n",
    "instance = api()\n",
    "instance.retrieve_stores_data() \n"
   ]
  },
  {
   "cell_type": "code",
   "execution_count": 69,
   "metadata": {},
   "outputs": [
    {
     "data": {
      "text/plain": [
       "\"\\n def retrieve_stores_data(self):\\n        store_number_response = self.list_number_of_stores(no_stores_endpoint, header)\\n        store_number = str(store_number_response.get('number_stores')) \\n        print(type(store_number))\\n        print(store_number)\\n        store_info_endpoint = 'https://aqj7u5id95.execute-api.eu-west-1.amazonaws.com/prod/store_details/' + '1'\\n        print(store_info_endpoint)\\n        try: \\n            with requests.get(store_info_endpoint, headers=header) as response:\\n                data = response.json()\\n                print(data)\\n                store_data = pd.DataFrame(data, index=[0]) \\n                return store_data\\n        except requests.exceptions.RequestException as e:\\n            print(f'An error occurred: {e}')\\n            return None\\n\\nno_stores_endpoint = 'https://aqj7u5id95.execute-api.eu-west-1.amazonaws.com/prod/number_stores'\\nheader = {'x-api-key': 'yFBQbwXe9J3sd6zWVAMrK6lcxxr0q1lr2PT6DDMX'} \\n\\ninstance = api()\\ninstance.retrieve_stores_data() \\n\\n\""
      ]
     },
     "execution_count": 69,
     "metadata": {},
     "output_type": "execute_result"
    }
   ],
   "source": [
    "\"\"\"\n",
    " def retrieve_stores_data(self):\n",
    "        store_number_response = self.list_number_of_stores(no_stores_endpoint, header)\n",
    "        store_number = str(store_number_response.get('number_stores')) \n",
    "        print(type(store_number))\n",
    "        print(store_number)\n",
    "        store_info_endpoint = 'https://aqj7u5id95.execute-api.eu-west-1.amazonaws.com/prod/store_details/' + '1'\n",
    "        print(store_info_endpoint)\n",
    "        try: \n",
    "            with requests.get(store_info_endpoint, headers=header) as response:\n",
    "                data = response.json()\n",
    "                print(data)\n",
    "                store_data = pd.DataFrame(data, index=[0]) \n",
    "                return store_data\n",
    "        except requests.exceptions.RequestException as e:\n",
    "            print(f'An error occurred: {e}')\n",
    "            return None\n",
    "\n",
    "no_stores_endpoint = 'https://aqj7u5id95.execute-api.eu-west-1.amazonaws.com/prod/number_stores'\n",
    "header = {'x-api-key': 'yFBQbwXe9J3sd6zWVAMrK6lcxxr0q1lr2PT6DDMX'} \n",
    "\n",
    "instance = api()\n",
    "instance.retrieve_stores_data() \n",
    "\n",
    "\"\"\""
   ]
  }
 ],
 "metadata": {
  "kernelspec": {
   "display_name": "multinational_env",
   "language": "python",
   "name": "python3"
  },
  "language_info": {
   "codemirror_mode": {
    "name": "ipython",
    "version": 3
   },
   "file_extension": ".py",
   "mimetype": "text/x-python",
   "name": "python",
   "nbconvert_exporter": "python",
   "pygments_lexer": "ipython3",
   "version": "3.12.3"
  }
 },
 "nbformat": 4,
 "nbformat_minor": 2
}
