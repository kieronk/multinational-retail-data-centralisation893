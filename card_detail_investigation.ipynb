{
 "cells": [
  {
   "cell_type": "code",
   "execution_count": 13,
   "metadata": {},
   "outputs": [],
   "source": [
    "import pandas as pd\n",
    "import logging \n",
    "import numpy as np\n",
    "import re \n",
    "from IPython.display import display\n",
    "from sqlalchemy import MetaData, Table\n",
    "from database_utils import DatabaseConnector\n",
    "from data_extraction import DataExtractor\n",
    "from unidecode import unidecode\n",
    "from dateutil import parser"
   ]
  },
  {
   "cell_type": "code",
   "execution_count": null,
   "metadata": {},
   "outputs": [],
   "source": [
    "# this is the last one to try and combine. The code has been tested and works. \n",
    "# But I haven't brought it together with the code in the daa_cleaning file. After that, it should all wrok\n",
    "# missing expiry date here at the start "
   ]
  },
  {
   "cell_type": "code",
   "execution_count": 14,
   "metadata": {},
   "outputs": [
    {
     "name": "stdout",
     "output_type": "stream",
     "text": [
      "retrieve_pdf_data is working\n"
     ]
    }
   ],
   "source": [
    "instance = DataExtractor()\n",
    "\n",
    "        # Read data from the 'legacy_users' table\n",
    "df = instance.retrieve_pdf_data('https://data-handling-public.s3.eu-west-1.amazonaws.com/card_details.pdf')\n",
    "\n",
    "        "
   ]
  },
  {
   "cell_type": "code",
   "execution_count": 15,
   "metadata": {},
   "outputs": [
    {
     "name": "stdout",
     "output_type": "stream",
     "text": [
      "<class 'pandas.core.frame.DataFrame'>\n",
      "RangeIndex: 15309 entries, 0 to 15308\n",
      "Data columns (total 4 columns):\n",
      " #   Column                  Non-Null Count  Dtype \n",
      "---  ------                  --------------  ----- \n",
      " 0   card_number             15309 non-null  object\n",
      " 1   expiry_date             15309 non-null  object\n",
      " 2   card_provider           15309 non-null  object\n",
      " 3   date_payment_confirmed  15309 non-null  object\n",
      "dtypes: object(4)\n",
      "memory usage: 478.5+ KB\n"
     ]
    },
    {
     "data": {
      "text/plain": [
       "15299"
      ]
     },
     "metadata": {},
     "output_type": "display_data"
    }
   ],
   "source": [
    "df.info() \n",
    "\n",
    "display(len((df['card_number'].unique()))) "
   ]
  },
  {
   "cell_type": "code",
   "execution_count": 16,
   "metadata": {},
   "outputs": [
    {
     "name": "stdout",
     "output_type": "stream",
     "text": [
      "<class 'pandas.core.frame.DataFrame'>\n",
      "RangeIndex: 15309 entries, 0 to 15308\n",
      "Data columns (total 4 columns):\n",
      " #   Column                  Non-Null Count  Dtype \n",
      "---  ------                  --------------  ----- \n",
      " 0   card_number             15309 non-null  object\n",
      " 1   expiry_date             15309 non-null  object\n",
      " 2   card_provider           15309 non-null  object\n",
      " 3   date_payment_confirmed  15309 non-null  object\n",
      "dtypes: object(4)\n",
      "memory usage: 478.5+ KB\n",
      "<class 'pandas.core.frame.DataFrame'>\n",
      "RangeIndex: 15309 entries, 0 to 15308\n",
      "Data columns (total 4 columns):\n",
      " #   Column                  Non-Null Count  Dtype \n",
      "---  ------                  --------------  ----- \n",
      " 0   card_number             15309 non-null  object\n",
      " 1   expiry_date             15309 non-null  object\n",
      " 2   card_provider           15309 non-null  object\n",
      " 3   date_payment_confirmed  15309 non-null  object\n",
      "dtypes: object(4)\n",
      "memory usage: 478.5+ KB\n"
     ]
    }
   ],
   "source": [
    "df_backup = df\n",
    "df.info()\n",
    "df_backup.info()"
   ]
  },
  {
   "cell_type": "code",
   "execution_count": 30,
   "metadata": {},
   "outputs": [
    {
     "name": "stdout",
     "output_type": "stream",
     "text": [
      "<class 'pandas.core.frame.DataFrame'>\n",
      "RangeIndex: 15309 entries, 0 to 15308\n",
      "Data columns (total 4 columns):\n",
      " #   Column                  Non-Null Count  Dtype \n",
      "---  ------                  --------------  ----- \n",
      " 0   card_number             15309 non-null  object\n",
      " 1   expiry_date             15309 non-null  object\n",
      " 2   card_provider           15309 non-null  object\n",
      " 3   date_payment_confirmed  15309 non-null  object\n",
      "dtypes: object(4)\n",
      "memory usage: 478.5+ KB\n"
     ]
    }
   ],
   "source": [
    "df = df_backup\n",
    "df.info()"
   ]
  },
  {
   "cell_type": "code",
   "execution_count": 31,
   "metadata": {},
   "outputs": [
    {
     "name": "stdout",
     "output_type": "stream",
     "text": [
      "started cleaning expiry date column\n",
      "started datetime conversion for expiry_date\n",
      "Expiry date datetime conversion that will be removed:\n"
     ]
    },
    {
     "data": {
      "text/html": [
       "<div>\n",
       "<style scoped>\n",
       "    .dataframe tbody tr th:only-of-type {\n",
       "        vertical-align: middle;\n",
       "    }\n",
       "\n",
       "    .dataframe tbody tr th {\n",
       "        vertical-align: top;\n",
       "    }\n",
       "\n",
       "    .dataframe thead th {\n",
       "        text-align: right;\n",
       "    }\n",
       "</style>\n",
       "<table border=\"1\" class=\"dataframe\">\n",
       "  <thead>\n",
       "    <tr style=\"text-align: right;\">\n",
       "      <th></th>\n",
       "      <th>card_number</th>\n",
       "      <th>expiry_date</th>\n",
       "      <th>card_provider</th>\n",
       "      <th>date_payment_confirmed</th>\n",
       "      <th>datetime_expiry_date</th>\n",
       "    </tr>\n",
       "  </thead>\n",
       "  <tbody>\n",
       "  </tbody>\n",
       "</table>\n",
       "</div>"
      ],
      "text/plain": [
       "Empty DataFrame\n",
       "Columns: [card_number, expiry_date, card_provider, date_payment_confirmed, datetime_expiry_date]\n",
       "Index: []"
      ]
     },
     "metadata": {},
     "output_type": "display_data"
    },
    {
     "name": "stdout",
     "output_type": "stream",
     "text": [
      "Number of rows after cleaning expiry date: 15284\n",
      "Number of rows before card number cleaning: 15284\n",
      "Number of non matches: 0\n",
      "Non-matching cards: []\n",
      "Number of rows before date_payment_confirmed cleaning: 15284\n"
     ]
    },
    {
     "data": {
      "text/plain": [
       "'Rows that would be converted to NULL:'"
      ]
     },
     "metadata": {},
     "output_type": "display_data"
    },
    {
     "data": {
      "text/html": [
       "<div>\n",
       "<style scoped>\n",
       "    .dataframe tbody tr th:only-of-type {\n",
       "        vertical-align: middle;\n",
       "    }\n",
       "\n",
       "    .dataframe tbody tr th {\n",
       "        vertical-align: top;\n",
       "    }\n",
       "\n",
       "    .dataframe thead th {\n",
       "        text-align: right;\n",
       "    }\n",
       "</style>\n",
       "<table border=\"1\" class=\"dataframe\">\n",
       "  <thead>\n",
       "    <tr style=\"text-align: right;\">\n",
       "      <th></th>\n",
       "      <th>card_number</th>\n",
       "      <th>expiry_date</th>\n",
       "      <th>card_provider</th>\n",
       "      <th>date_payment_confirmed</th>\n",
       "      <th>datetime_expiry_date</th>\n",
       "    </tr>\n",
       "  </thead>\n",
       "  <tbody>\n",
       "  </tbody>\n",
       "</table>\n",
       "</div>"
      ],
      "text/plain": [
       "Empty DataFrame\n",
       "Columns: [card_number, expiry_date, card_provider, date_payment_confirmed, datetime_expiry_date]\n",
       "Index: []"
      ]
     },
     "metadata": {},
     "output_type": "display_data"
    },
    {
     "data": {
      "text/plain": [
       "'\\nList of invalid dates:'"
      ]
     },
     "metadata": {},
     "output_type": "display_data"
    },
    {
     "data": {
      "text/plain": [
       "[]"
      ]
     },
     "metadata": {},
     "output_type": "display_data"
    },
    {
     "name": "stdout",
     "output_type": "stream",
     "text": [
      "Number of rows after date_payment_confirmed cleaning: 15284\n",
      "started removing incorrect values from card providers column\n",
      "Number of rows after expiry date to date time cleaning: 15284\n"
     ]
    },
    {
     "data": {
      "text/plain": [
       "'Card provider rows that will be removed:'"
      ]
     },
     "metadata": {},
     "output_type": "display_data"
    },
    {
     "data": {
      "text/html": [
       "<div>\n",
       "<style scoped>\n",
       "    .dataframe tbody tr th:only-of-type {\n",
       "        vertical-align: middle;\n",
       "    }\n",
       "\n",
       "    .dataframe tbody tr th {\n",
       "        vertical-align: top;\n",
       "    }\n",
       "\n",
       "    .dataframe thead th {\n",
       "        text-align: right;\n",
       "    }\n",
       "</style>\n",
       "<table border=\"1\" class=\"dataframe\">\n",
       "  <thead>\n",
       "    <tr style=\"text-align: right;\">\n",
       "      <th></th>\n",
       "      <th>card_number</th>\n",
       "      <th>expiry_date</th>\n",
       "      <th>card_provider</th>\n",
       "      <th>date_payment_confirmed</th>\n",
       "      <th>datetime_expiry_date</th>\n",
       "    </tr>\n",
       "  </thead>\n",
       "  <tbody>\n",
       "  </tbody>\n",
       "</table>\n",
       "</div>"
      ],
      "text/plain": [
       "Empty DataFrame\n",
       "Columns: [card_number, expiry_date, card_provider, date_payment_confirmed, datetime_expiry_date]\n",
       "Index: []"
      ]
     },
     "metadata": {},
     "output_type": "display_data"
    },
    {
     "name": "stdout",
     "output_type": "stream",
     "text": [
      "Number of rows after card number cleaning: 15284\n"
     ]
    }
   ],
   "source": [
    "\n",
    "#log starting of method\n",
    "#self.logger.info(f\"Running retrieve_pdf_data with pdf_path: {pdf_path}\")\n",
    "\n",
    "#cleaning expiry date column \n",
    "\n",
    "\n",
    "# STEP 1: Cleaning expiry date column\n",
    "print('started cleaning expiry date column')\n",
    "\n",
    "# Define a regular expression pattern for the MM/YY format\n",
    "pattern_exp = r'^\\d{2}/\\d{2}$'\n",
    "\n",
    "# Use str.match to filter rows where 'expiry_date' matches the pattern\n",
    "df = df[df['expiry_date'].str.match(pattern_exp)].reset_index(drop=True)\n",
    "\n",
    "print('started datetime conversion for expiry_date')\n",
    "\n",
    "# Convert expiry_date to datetime, coerce errors to NaT using .loc to avoid SettingWithCopyWarning\n",
    "df.loc[:, 'datetime_expiry_date'] = pd.to_datetime(df['expiry_date'], format='%m/%y', errors='coerce')\n",
    "\n",
    "# Identify rows that will be removed (rows with NaT in 'datetime_expiry_date')\n",
    "removed_expiry_dates = df[df['datetime_expiry_date'].isna()]\n",
    "\n",
    "print(\"Expiry date datetime conversion that will be removed:\")\n",
    "display(removed_expiry_dates)\n",
    "\n",
    "# Reset the index\n",
    "df = df.reset_index(drop=True)\n",
    "\n",
    "num_rows = df.shape[0]\n",
    "print(f\"Number of rows after cleaning expiry date: {num_rows}\")\n",
    "\n",
    "# STEP 2: Cleaning card number\n",
    "num_rows = df.shape[0]\n",
    "print(f\"Number of rows before card number cleaning: {num_rows}\")\n",
    "\n",
    "# Define a regular expression pattern for numbers only\n",
    "pattern_card = r'^\\d+$'\n",
    "\n",
    "print(\"Number of non matches:\", len(non_matching_cards))\n",
    "print(\"Non-matching cards:\", non_matching_cards)\n",
    "\n",
    "# Ensure all elements in the 'card_number' column are strings\n",
    "df['card_number'] = df['card_number'].astype(str)\n",
    "\n",
    "# Remove '??' from the strings in the 'card_number' column\n",
    "df['card_number'] = df['card_number'].str.replace('?', '', regex=False)\n",
    "\n",
    "# Use apply with a lambda function to filter rows where 'card_number' matches the pattern\n",
    "df = df[df['card_number'].apply(lambda x: bool(re.match(pattern_card, x)))].reset_index(drop=True)\n",
    "\n",
    "# STEP 3: Cleaning date_payment_confirmed\n",
    "num_rows = df.shape[0]\n",
    "print(f\"Number of rows before date_payment_confirmed cleaning: {num_rows}\")\n",
    "\n",
    "# Initialize a list to store invalid dates\n",
    "invalid_dates_list = []\n",
    "\n",
    "# Function to parse dates and standardize format\n",
    "def parse_date(date_str):\n",
    "    try:\n",
    "        # Attempt to parse the date string to a datetime object\n",
    "        dt = parser.parse(date_str)\n",
    "        # Convert to the desired format (YYYY-MM-DD)\n",
    "        return dt.strftime('%Y-%m-%d')\n",
    "    except (parser.ParserError, ValueError):\n",
    "        # Append invalid date to the list\n",
    "        invalid_dates_list.append(date_str)\n",
    "        return np.nan  # Return NaN for invalid dates\n",
    "\n",
    "# Apply the function to the 'date_payment_confirmed' column\n",
    "df.loc[:, 'date_payment_confirmed'] = df['date_payment_confirmed'].apply(parse_date)\n",
    "\n",
    "# Identify rows that would be null after conversion\n",
    "invalid_rows = df[df['date_payment_confirmed'].isna()]\n",
    "\n",
    "display(\"Rows that would be converted to NULL:\")\n",
    "display(invalid_rows)\n",
    "\n",
    "# Drop rows with NaN (invalid dates)\n",
    "df_cleaned = df.dropna(subset=['date_payment_confirmed'])\n",
    "\n",
    "display(\"\\nList of invalid dates:\")\n",
    "display(invalid_dates_list)\n",
    "\n",
    "num_rows = df.shape[0]\n",
    "print(f\"Number of rows after date_payment_confirmed cleaning: {num_rows}\")\n",
    "\n",
    "\n",
    "# STEP 5: removing incorrect values from the card providers column \n",
    "\n",
    "# LOGGING \n",
    "print('started removing incorrect values from card providers column')\n",
    "\n",
    "num_rows = df.shape[0]\n",
    "print(f\"Number of rows after expiry date to date time cleaning: {num_rows}\")\n",
    "\n",
    "#create a valid providers list  \n",
    "valid_providers = ['Diners Club / Carte Blanche', 'American Express', 'JCB 16 digit','JCB 15 digit', 'Maestro', 'Mastercard', 'Discover','VISA 19 digit', 'VISA 16 digit', 'VISA 13 digit']\n",
    "\n",
    "# Filter the DataFrame to keep only rows with valid card providers\n",
    "df = df[df['card_provider'].isin(valid_providers)]\n",
    "\n",
    "removed_providers = df[~df['card_provider'].isin(valid_providers)]\n",
    "display(\"Card provider rows that will be removed:\")\n",
    "display(removed_expiry_dates)\n",
    "\n",
    "#Reset the index of the filtered DataFrame\n",
    "df = df.reset_index(drop=True)\n",
    "\n",
    "num_rows = df.shape[0]\n",
    "print(f\"Number of rows after card number cleaning: {num_rows}\")"
   ]
  }
 ],
 "metadata": {
  "kernelspec": {
   "display_name": "multinational_env",
   "language": "python",
   "name": "python3"
  },
  "language_info": {
   "codemirror_mode": {
    "name": "ipython",
    "version": 3
   },
   "file_extension": ".py",
   "mimetype": "text/x-python",
   "name": "python",
   "nbconvert_exporter": "python",
   "pygments_lexer": "ipython3",
   "version": "3.12.3"
  }
 },
 "nbformat": 4,
 "nbformat_minor": 2
}
