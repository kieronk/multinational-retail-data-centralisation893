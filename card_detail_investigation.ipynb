{
 "cells": [
  {
   "cell_type": "code",
   "execution_count": 21,
   "metadata": {},
   "outputs": [],
   "source": [
    "import pandas as pd\n",
    "import logging \n",
    "import numpy as np\n",
    "import re \n",
    "from IPython.display import display\n",
    "from sqlalchemy import MetaData, Table\n",
    "from database_utils import DatabaseConnector\n",
    "from data_extraction import DataExtractor"
   ]
  },
  {
   "cell_type": "code",
   "execution_count": null,
   "metadata": {},
   "outputs": [],
   "source": []
  },
  {
   "cell_type": "code",
   "execution_count": 13,
   "metadata": {},
   "outputs": [
    {
     "name": "stdout",
     "output_type": "stream",
     "text": [
      "retrieve_pdf_data is working\n"
     ]
    }
   ],
   "source": [
    "instance = DataExtractor()\n",
    "\n",
    "        # Read data from the 'legacy_users' table\n",
    "df = instance.retrieve_pdf_data('https://data-handling-public.s3.eu-west-1.amazonaws.com/card_details.pdf')\n",
    "\n",
    "        "
   ]
  },
  {
   "cell_type": "code",
   "execution_count": 16,
   "metadata": {},
   "outputs": [
    {
     "name": "stdout",
     "output_type": "stream",
     "text": [
      "<class 'pandas.core.frame.DataFrame'>\n",
      "RangeIndex: 15309 entries, 0 to 15308\n",
      "Data columns (total 4 columns):\n",
      " #   Column                  Non-Null Count  Dtype \n",
      "---  ------                  --------------  ----- \n",
      " 0   card_number             15309 non-null  object\n",
      " 1   expiry_date             15309 non-null  object\n",
      " 2   card_provider           15309 non-null  object\n",
      " 3   date_payment_confirmed  15309 non-null  object\n",
      "dtypes: object(4)\n",
      "memory usage: 478.5+ KB\n"
     ]
    },
    {
     "data": {
      "text/plain": [
       "15299"
      ]
     },
     "metadata": {},
     "output_type": "display_data"
    }
   ],
   "source": [
    "df.info() \n",
    "\n",
    "display(len((df['card_number'].unique()))) "
   ]
  },
  {
   "cell_type": "code",
   "execution_count": 20,
   "metadata": {},
   "outputs": [
    {
     "name": "stderr",
     "output_type": "stream",
     "text": [
      "/var/folders/ps/4kr9fxh547bg4xm51tqj617h0000gn/T/ipykernel_5222/3510606622.py:8: DeprecationWarning: DataFrameGroupBy.apply operated on the grouping columns. This behavior is deprecated, and in a future version of pandas the grouping columns will be excluded from the operation. Either pass `include_groups=False` to exclude the groupings or explicitly select the grouping columns after groupby to silence this warning.\n",
      "  length_groups = df.groupby('length').apply(lambda x: x.head(10)).reset_index(drop=True)\n"
     ]
    },
    {
     "data": {
      "text/html": [
       "<div>\n",
       "<style scoped>\n",
       "    .dataframe tbody tr th:only-of-type {\n",
       "        vertical-align: middle;\n",
       "    }\n",
       "\n",
       "    .dataframe tbody tr th {\n",
       "        vertical-align: top;\n",
       "    }\n",
       "\n",
       "    .dataframe thead th {\n",
       "        text-align: right;\n",
       "    }\n",
       "</style>\n",
       "<table border=\"1\" class=\"dataframe\">\n",
       "  <thead>\n",
       "    <tr style=\"text-align: right;\">\n",
       "      <th></th>\n",
       "      <th>card_number</th>\n",
       "      <th>expiry_date</th>\n",
       "      <th>card_provider</th>\n",
       "      <th>date_payment_confirmed</th>\n",
       "      <th>length</th>\n",
       "    </tr>\n",
       "  </thead>\n",
       "  <tbody>\n",
       "    <tr>\n",
       "      <th>0</th>\n",
       "      <td>NULL</td>\n",
       "      <td>NULL</td>\n",
       "      <td>NULL</td>\n",
       "      <td>NULL</td>\n",
       "      <td>4</td>\n",
       "    </tr>\n",
       "    <tr>\n",
       "      <th>1</th>\n",
       "      <td>NULL</td>\n",
       "      <td>NULL</td>\n",
       "      <td>NULL</td>\n",
       "      <td>NULL</td>\n",
       "      <td>4</td>\n",
       "    </tr>\n",
       "    <tr>\n",
       "      <th>2</th>\n",
       "      <td>NULL</td>\n",
       "      <td>NULL</td>\n",
       "      <td>NULL</td>\n",
       "      <td>NULL</td>\n",
       "      <td>4</td>\n",
       "    </tr>\n",
       "    <tr>\n",
       "      <th>3</th>\n",
       "      <td>NULL</td>\n",
       "      <td>NULL</td>\n",
       "      <td>NULL</td>\n",
       "      <td>NULL</td>\n",
       "      <td>4</td>\n",
       "    </tr>\n",
       "    <tr>\n",
       "      <th>4</th>\n",
       "      <td>NULL</td>\n",
       "      <td>NULL</td>\n",
       "      <td>NULL</td>\n",
       "      <td>NULL</td>\n",
       "      <td>4</td>\n",
       "    </tr>\n",
       "    <tr>\n",
       "      <th>...</th>\n",
       "      <td>...</td>\n",
       "      <td>...</td>\n",
       "      <td>...</td>\n",
       "      <td>...</td>\n",
       "      <td>...</td>\n",
       "    </tr>\n",
       "    <tr>\n",
       "      <th>99</th>\n",
       "      <td>????3556268655280464</td>\n",
       "      <td>11/29</td>\n",
       "      <td>JCB 16 digit</td>\n",
       "      <td>1997-01-03</td>\n",
       "      <td>20</td>\n",
       "    </tr>\n",
       "    <tr>\n",
       "      <th>100</th>\n",
       "      <td>?4222069242355461965</td>\n",
       "      <td>12/23</td>\n",
       "      <td>VISA 19 digit</td>\n",
       "      <td>1999-01-25</td>\n",
       "      <td>20</td>\n",
       "    </tr>\n",
       "    <tr>\n",
       "      <th>101</th>\n",
       "      <td>????3512756643215215</td>\n",
       "      <td>09/30</td>\n",
       "      <td>JCB 16 digit</td>\n",
       "      <td>2008-07-26</td>\n",
       "      <td>20</td>\n",
       "    </tr>\n",
       "    <tr>\n",
       "      <th>102</th>\n",
       "      <td>????3543745641013832</td>\n",
       "      <td>01/24</td>\n",
       "      <td>JCB 16 digit</td>\n",
       "      <td>2004-06-21</td>\n",
       "      <td>20</td>\n",
       "    </tr>\n",
       "    <tr>\n",
       "      <th>103</th>\n",
       "      <td>???4252720361802860591</td>\n",
       "      <td>05/27</td>\n",
       "      <td>VISA 19 digit</td>\n",
       "      <td>2014-01-19</td>\n",
       "      <td>22</td>\n",
       "    </tr>\n",
       "  </tbody>\n",
       "</table>\n",
       "<p>104 rows × 5 columns</p>\n",
       "</div>"
      ],
      "text/plain": [
       "                card_number expiry_date  card_provider date_payment_confirmed  \\\n",
       "0                      NULL        NULL           NULL                   NULL   \n",
       "1                      NULL        NULL           NULL                   NULL   \n",
       "2                      NULL        NULL           NULL                   NULL   \n",
       "3                      NULL        NULL           NULL                   NULL   \n",
       "4                      NULL        NULL           NULL                   NULL   \n",
       "..                      ...         ...            ...                    ...   \n",
       "99     ????3556268655280464       11/29   JCB 16 digit             1997-01-03   \n",
       "100    ?4222069242355461965       12/23  VISA 19 digit             1999-01-25   \n",
       "101    ????3512756643215215       09/30   JCB 16 digit             2008-07-26   \n",
       "102    ????3543745641013832       01/24   JCB 16 digit             2004-06-21   \n",
       "103  ???4252720361802860591       05/27  VISA 19 digit             2014-01-19   \n",
       "\n",
       "     length  \n",
       "0         4  \n",
       "1         4  \n",
       "2         4  \n",
       "3         4  \n",
       "4         4  \n",
       "..      ...  \n",
       "99       20  \n",
       "100      20  \n",
       "101      20  \n",
       "102      20  \n",
       "103      22  \n",
       "\n",
       "[104 rows x 5 columns]"
      ]
     },
     "execution_count": 20,
     "metadata": {},
     "output_type": "execute_result"
    }
   ],
   "source": [
    "\n",
    "# Ensure all card numbers are strings\n",
    "df['card_number'] = df['card_number'].astype(str)\n",
    "\n",
    "# Calculate the lengths of the card numbers\n",
    "df['length'] = df['card_number'].apply(len)\n",
    "\n",
    "# Group by length and show 10 examples of each group\n",
    "length_groups = df.groupby('length').apply(lambda x: x.head(10)).reset_index(drop=True)\n",
    "\n",
    "#import ace_tools as tools; tools.display_dataframe_to_user(name=\"Length Groups of Card Numbers\", dataframe=length_groups)\n",
    "\n",
    "length_groups"
   ]
  }
 ],
 "metadata": {
  "kernelspec": {
   "display_name": "multinational_env",
   "language": "python",
   "name": "python3"
  },
  "language_info": {
   "codemirror_mode": {
    "name": "ipython",
    "version": 3
   },
   "file_extension": ".py",
   "mimetype": "text/x-python",
   "name": "python",
   "nbconvert_exporter": "python",
   "pygments_lexer": "ipython3",
   "version": "3.12.3"
  }
 },
 "nbformat": 4,
 "nbformat_minor": 2
}
